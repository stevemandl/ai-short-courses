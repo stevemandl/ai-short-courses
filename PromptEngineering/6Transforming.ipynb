{
 "cells": [
  {
   "cell_type": "markdown",
   "id": "d4982a9c-da90-4f98-bf7d-89542cf5f93d",
   "metadata": {},
   "source": [
    "# Transforming\n",
    "\n",
    "In this notebook, we will explore how to use Large Language Models for text transformation tasks such as language translation, spelling and grammar checking, tone adjustment, and format conversion.\n",
    "\n",
    "## Setup"
   ]
  },
  {
   "cell_type": "code",
   "execution_count": 3,
   "id": "5b6749dc-cd5f-4b54-a7bb-4f7758f6c0f2",
   "metadata": {
    "editable": true,
    "slideshow": {
     "slide_type": ""
    },
    "tags": []
   },
   "outputs": [],
   "source": [
    "import json\n",
    "import boto3\n",
    "import panel as pn  # GUI\n",
    "\n",
    "bedrock_runtime = boto3.client(\n",
    "    service_name=\"bedrock-runtime\",\n",
    "    region_name=\"us-east-1\",\n",
    ")"
   ]
  },
  {
   "cell_type": "code",
   "execution_count": 4,
   "id": "48a9af1a-c754-4796-9712-8fac23d0cfe6",
   "metadata": {
    "editable": true,
    "slideshow": {
     "slide_type": ""
    },
    "tags": []
   },
   "outputs": [],
   "source": [
    "def get_completion(prompt, modelId=\"ai21.jamba-1-5-mini-v1:0\"):\n",
    "    messages = [{\"role\": \"user\", \"content\": prompt}]\n",
    "    body = {\n",
    "        \"messages\": messages,\n",
    "        \"temperature\": 0\n",
    "    }\n",
    "    response = bedrock_runtime.invoke_model(\n",
    "        body=json.dumps(body),\n",
    "        modelId=modelId\n",
    "    )\n",
    "    response_body = json.loads(response.get(\"body\").read())\n",
    "    return response_body.get(\"choices\")[0][\"message\"][\"content\"]\n"
   ]
  },
  {
   "cell_type": "markdown",
   "id": "7c3b0249-5ed6-4ae8-9891-ff6dfeedc1a2",
   "metadata": {},
   "source": [
    "## Translation\n",
    "\n",
    "ChatGPT is trained with sources in many languages. This gives the model the ability to do translation. Here are some examples of how to use this capability."
   ]
  },
  {
   "cell_type": "code",
   "execution_count": 5,
   "id": "8f392846-63ee-49e4-82c8-1c57d5da7573",
   "metadata": {},
   "outputs": [
    {
     "name": "stdout",
     "output_type": "stream",
     "text": [
      " Hola, me gustaría pedir una licuadora.\n"
     ]
    }
   ],
   "source": [
    "prompt = f\"\"\"\n",
    "Translate the following English text to Spanish: \\ \n",
    "```Hi, I would like to order a blender```\n",
    "\"\"\"\n",
    "response = get_completion(prompt)\n",
    "print(response)"
   ]
  },
  {
   "cell_type": "code",
   "execution_count": 6,
   "id": "130321ec-492d-4d1a-9112-a8ab632626cd",
   "metadata": {},
   "outputs": [
    {
     "name": "stdout",
     "output_type": "stream",
     "text": [
      " The language of the sentence \"Combien coûte le lampadaire?\" is French.\n"
     ]
    }
   ],
   "source": [
    "prompt = f\"\"\"\n",
    "Tell me which language this is: \n",
    "```Combien coûte le lampadaire?```\n",
    "\"\"\"\n",
    "response = get_completion(prompt)\n",
    "print(response)"
   ]
  },
  {
   "cell_type": "code",
   "execution_count": 7,
   "id": "6aad3514-6828-4b2a-bf79-703e4708dc89",
   "metadata": {},
   "outputs": [
    {
     "name": "stdout",
     "output_type": "stream",
     "text": [
      " Sure, here are the translations:\n",
      "\n",
      "**French:**\n",
      "\"Je veux commander un ballon de basket.\"\n",
      "\n",
      "**Spanish:**\n",
      "\"Quiero pedir una pelota de baloncesto.\"\n",
      "\n",
      "**English pirate:**\n",
      "\"Ahoy, I be wantin' to order a basketball, matey!\"\n"
     ]
    }
   ],
   "source": [
    "prompt = f\"\"\"\n",
    "Translate the following  text to French and Spanish\n",
    "and English pirate: \\\n",
    "```I want to order a basketball```\n",
    "\"\"\"\n",
    "response = get_completion(prompt)\n",
    "print(response)"
   ]
  },
  {
   "cell_type": "code",
   "execution_count": 8,
   "id": "fee3165a-d01f-4088-97b9-7fbf44b3d68a",
   "metadata": {},
   "outputs": [
    {
     "name": "stdout",
     "output_type": "stream",
     "text": [
      " Sure! Here are the translations for \"Would you like to order a pillow?\" in both formal and informal Spanish:\n",
      "\n",
      "**Formal:**\n",
      "\n",
      "* \"¿Le gustaría pedir una almohada?\"\n",
      "\n",
      "**Informal:**\n",
      "\n",
      "* \"¿Te gustaría pedir una almohada?\"\n"
     ]
    }
   ],
   "source": [
    "prompt = f\"\"\"\n",
    "Translate the following text to Spanish in both the \\\n",
    "formal and informal forms: \n",
    "'Would you like to order a pillow?'\n",
    "\"\"\"\n",
    "response = get_completion(prompt)\n",
    "print(response)"
   ]
  },
  {
   "cell_type": "markdown",
   "id": "69ad63f6-b24f-42ed-9a65-f4078833b82b",
   "metadata": {},
   "source": [
    "### Universal Translator\n",
    "Imagine you are in charge of IT at a large multinational e-commerce company. Users are messaging you with IT issues in all their native languages. Your staff is from all over the world and speaks only their native languages. You need a universal translator!"
   ]
  },
  {
   "cell_type": "code",
   "execution_count": 9,
   "id": "1a47b5d8-2758-4d81-b45d-fa731550599a",
   "metadata": {},
   "outputs": [],
   "source": [
    "user_messages = [\n",
    "  \"La performance du système est plus lente que d'habitude.\",  # System performance is slower than normal         \n",
    "  \"Mi monitor tiene píxeles que no se iluminan.\",              # My monitor has pixels that are not lighting\n",
    "  \"Il mio mouse non funziona\",                                 # My mouse is not working\n",
    "  \"Mój klawisz Ctrl jest zepsuty\",                             # My keyboard has a broken control key\n",
    "  \"我的屏幕在闪烁\"                                               # My screen is flashing\n",
    "] "
   ]
  },
  {
   "cell_type": "code",
   "execution_count": 10,
   "id": "0c9fac5d-1a04-4a99-a94d-8a852a923946",
   "metadata": {},
   "outputs": [
    {
     "name": "stdout",
     "output_type": "stream",
     "text": [
      "Original message ( The language of the text is French.): La performance du système est plus lente que d'habitude.\n",
      " **English:** The system performance is slower than usual.\n",
      "\n",
      "**Korean:** 시스템 성능이 보통보다 느립니다. \n",
      "\n",
      "Original message ( The language of the text is **Spanish**. \n",
      "\n",
      "Here's a breakdown:\n",
      "\n",
      "* **Mi monitor:** My monitor\n",
      "* **tiene:** has\n",
      "* **píxeles:** pixels\n",
      "* **que no se iluminan:** that do not light up \n",
      "\n",
      "\n",
      "Let me know if you have any other text snippets you'd like me to identify!\n",
      "): Mi monitor tiene píxeles que no se iluminan.\n",
      " Here is the translation of the text to English and Korean:\n",
      "\n",
      "**English:**\n",
      "\"My monitor has pixels that do not light up.\"\n",
      "\n",
      "**Korean:**\n",
      "\"내 모니터에는 불이 들어오지 않는 픽셀이 있습니다.\" \n",
      "\n",
      "Original message ( The language is Italian. \n",
      "\n",
      "The phrase \"Il mio mouse non funziona\" translates to \"My mouse doesn't work\" in English. \n",
      "\n",
      "): Il mio mouse non funziona\n",
      " Here is the translation of \"Il mio mouse non funziona\" to English and Korean:\n",
      "\n",
      "**English:** My mouse doesn't work.\n",
      "\n",
      "**Korean:** 내 마우스가 작동하지 않습니다. \n",
      "\n",
      "Original message ( The language of the text \"Mój klawisz Ctrl jest zepsuty\" is **Polish**. \n",
      "\n",
      "Here's why:\n",
      "\n",
      "* **\"Mój\"** means \"My\" in Polish.\n",
      "* **\"klawisz\"** means \"key\" in Polish.\n",
      "* **\"Ctrl\"** is a common abbreviation for the Control key, which is used in many languages.\n",
      "* **\"jest\"** means \"is\" in Polish.\n",
      "* **\"zepsuty\"** means \"broken\" in Polish. \n",
      "\n",
      "\n",
      "Let me know if you have any other text snippets you'd like me to identify!\n",
      "): Mój klawisz Ctrl jest zepsuty\n",
      " Here are the translations:\n",
      "\n",
      "**English:** My Ctrl key is broken.\n",
      "\n",
      "**Korean:** 내 Ctrl 키가 고장났어. \n",
      "\n",
      "\n",
      "Let me know if you have any other text you'd like me to translate!\n",
      " \n",
      "\n",
      "Original message ( The language of the text \"我的屏幕在闪烁\" is **Chinese**. \n",
      "\n",
      "Here's a breakdown:\n",
      "\n",
      "* **我的屏幕** (wǒ de píngmù) means \"my screen\"\n",
      "* **在** (zài) means \"in\" or \"is\"\n",
      "* **闪烁** (shǎn shuò) means \"to flicker\" or \"to flash\"\n",
      "\n",
      "Putting it together, the sentence translates to \"My screen is flickering.\" \n",
      "\n",
      "): 我的屏幕在闪烁\n",
      " Here are the translations:\n",
      "\n",
      "**English:** My screen is flickering.\n",
      "\n",
      "**Korean:** 내 화면이 깜박이고 있습니다. \n",
      "\n",
      "\n",
      "Let me know if you have any other text you'd like me to translate!\n",
      " \n",
      "\n"
     ]
    }
   ],
   "source": [
    "for issue in user_messages:\n",
    "    prompt = f\"Tell me what language this is: ```{issue}```\"\n",
    "    lang = get_completion(prompt)\n",
    "    print(f\"Original message ({lang}): {issue}\")\n",
    "\n",
    "    prompt = f\"\"\"\n",
    "    Translate the following  text to English \\\n",
    "    and Korean: ```{issue}```\n",
    "    \"\"\"\n",
    "    response = get_completion(prompt)\n",
    "    print(response, \"\\n\")"
   ]
  },
  {
   "cell_type": "markdown",
   "id": "c127e637-628b-40cb-a9ed-c1140faaafc0",
   "metadata": {},
   "source": [
    "## Try it yourself!\n",
    "Try some translations on your own!"
   ]
  },
  {
   "cell_type": "code",
   "execution_count": null,
   "id": "f77d0a67-de55-4419-933c-42924ea9716f",
   "metadata": {},
   "outputs": [],
   "source": []
  },
  {
   "cell_type": "markdown",
   "id": "d64cc476-4721-4235-bcdd-fcb51200b4d7",
   "metadata": {},
   "source": [
    "## Tone Transformation\n",
    "Writing can vary based on the intended audience. ChatGPT can produce different tones.\n"
   ]
  },
  {
   "cell_type": "code",
   "execution_count": 11,
   "id": "bcd5b536-ba6a-49d5-8863-7128c28aac22",
   "metadata": {},
   "outputs": [
    {
     "name": "stdout",
     "output_type": "stream",
     "text": [
      " Certainly! Here's a more formal version of the message:\n",
      "\n",
      "\n",
      "---\n",
      "\n",
      "Dear [Recipient's Name],\n",
      "\n",
      "I hope this message finds you well. My name is Joe, and I am writing to provide you with the specifications for a standing lamp that I believe may be of interest to you.\n",
      "\n",
      "Please find the details attached for your review.\n",
      "\n",
      "Best regards,\n",
      "\n",
      "Joe [Your Last Name]\n",
      "\n",
      "\n",
      "---\n",
      "\n",
      "Feel free to adjust the details as needed.\n"
     ]
    }
   ],
   "source": [
    "prompt = f\"\"\"\n",
    "Translate the following from slang to a business letter: \n",
    "'Dude, This is Joe, check out this spec on this standing lamp.'\n",
    "\"\"\"\n",
    "response = get_completion(prompt)\n",
    "print(response)"
   ]
  },
  {
   "cell_type": "markdown",
   "id": "75e58d7e-eeb3-4cb9-9c09-235e6195d7f0",
   "metadata": {},
   "source": [
    "## Format Conversion\n",
    "ChatGPT can translate between formats. The prompt should describe the input and output formats."
   ]
  },
  {
   "cell_type": "code",
   "execution_count": 12,
   "id": "d11c1e28-6be7-4a95-8e63-08aac18be263",
   "metadata": {},
   "outputs": [
    {
     "name": "stdout",
     "output_type": "stream",
     "text": [
      " ```html\n",
      "<h2>Restaurant Employees</h2>\n",
      "<table>\n",
      "  <thead>\n",
      "    <tr>\n",
      "      <th>Name</th>\n",
      "      <th>Email</th>\n",
      "    </tr>\n",
      "  </thead>\n",
      "  <tbody>\n",
      "    <tr>\n",
      "      <td>Shyam</td>\n",
      "      <td>shyamjaiswal@gmail.com</td>\n",
      "    </tr>\n",
      "    <tr>\n",
      "      <td>Bob</td>\n",
      "      <td>bob32@gmail.com</td>\n",
      "    </tr>\n",
      "    <tr>\n",
      "      <td>Jai</td>\n",
      "      <td>jai87@gmail.com</td>\n",
      "    </tr>\n",
      "  </tbody>\n",
      "</table>\n",
      "```\n",
      "\n",
      "**Explanation:**\n",
      "\n",
      "1. **Title:** We use an `<h2>` tag to display the title \"Restaurant Employees\".\n",
      "2. **Table Structure:**\n",
      "   - `<table>` tag creates the table.\n",
      "   - `<thead>` tag defines the table header.\n",
      "   - `<tr>` tag represents a table row.\n",
      "   - `<th>` tag defines a table header cell. We use it for \"Name\" and \"Email\".\n",
      "3. **Table Body:**\n",
      "   - `<tbody>` tag defines the table body.\n",
      "   - Each employee's data is enclosed within a `<tr>` tag.\n",
      "   - `<td>` tag represents a table data cell, used for displaying the name and email.\n",
      "\n",
      "**Key Points:**\n",
      "\n",
      "- This HTML code assumes the Python dictionary is directly accessible in your HTML file. If it's coming from a server-side script, you'll need to use server-side scripting (like Python, PHP, etc.) to generate the HTML table dynamically.\n",
      "- You can customize the table's appearance using CSS styles.\n",
      "\n"
     ]
    }
   ],
   "source": [
    "data_json = { \"resturant employees\" :[ \n",
    "    {\"name\":\"Shyam\", \"email\":\"shyamjaiswal@gmail.com\"},\n",
    "    {\"name\":\"Bob\", \"email\":\"bob32@gmail.com\"},\n",
    "    {\"name\":\"Jai\", \"email\":\"jai87@gmail.com\"}\n",
    "]}\n",
    "\n",
    "prompt = f\"\"\"\n",
    "Translate the following python dictionary from JSON to an HTML \\\n",
    "table with column headers and title: {data_json}\n",
    "\"\"\"\n",
    "response = get_completion(prompt)\n",
    "print(response)"
   ]
  },
  {
   "cell_type": "code",
   "execution_count": 13,
   "id": "ab227a76-b254-4519-a2f5-cd8b2e411c0f",
   "metadata": {},
   "outputs": [
    {
     "data": {
      "text/html": [
       " ```html\n",
       "<h2>Restaurant Employees</h2>\n",
       "<table>\n",
       "  <thead>\n",
       "    <tr>\n",
       "      <th>Name</th>\n",
       "      <th>Email</th>\n",
       "    </tr>\n",
       "  </thead>\n",
       "  <tbody>\n",
       "    <tr>\n",
       "      <td>Shyam</td>\n",
       "      <td>shyamjaiswal@gmail.com</td>\n",
       "    </tr>\n",
       "    <tr>\n",
       "      <td>Bob</td>\n",
       "      <td>bob32@gmail.com</td>\n",
       "    </tr>\n",
       "    <tr>\n",
       "      <td>Jai</td>\n",
       "      <td>jai87@gmail.com</td>\n",
       "    </tr>\n",
       "  </tbody>\n",
       "</table>\n",
       "```\n",
       "\n",
       "**Explanation:**\n",
       "\n",
       "1. **Title:** We use an `<h2>` tag to display the title \"Restaurant Employees\".\n",
       "2. **Table Structure:**\n",
       "   - `<table>` tag creates the table.\n",
       "   - `<thead>` tag defines the table header.\n",
       "   - `<tr>` tag represents a table row.\n",
       "   - `<th>` tag defines a table header cell. We use it for \"Name\" and \"Email\".\n",
       "3. **Table Body:**\n",
       "   - `<tbody>` tag defines the table body.\n",
       "   - Each employee's data is enclosed within a `<tr>` tag.\n",
       "   - `<td>` tag represents a table data cell, used for displaying the name and email.\n",
       "\n",
       "**Key Points:**\n",
       "\n",
       "- This HTML code assumes the Python dictionary is directly accessible in your HTML file. If it's coming from a server-side script, you'll need to use server-side scripting (like Python, PHP, etc.) to generate the HTML table dynamically.\n",
       "- You can customize the table's appearance using CSS styles.\n"
      ],
      "text/plain": [
       "<IPython.core.display.HTML object>"
      ]
     },
     "metadata": {},
     "output_type": "display_data"
    }
   ],
   "source": [
    "from IPython.display import display, Markdown, Latex, HTML, JSON\n",
    "display(HTML(response))"
   ]
  },
  {
   "cell_type": "markdown",
   "id": "bd48ca9e-70a7-4126-946d-8cdc034be945",
   "metadata": {},
   "source": [
    "## Spellcheck/Grammar check.\n",
    "\n",
    "Here are some examples of common grammar and spelling problems and the LLM's response. \n",
    "\n",
    "To signal to the LLM that you want it to proofread your text, you instruct the model to 'proofread' or 'proofread and correct'."
   ]
  },
  {
   "cell_type": "code",
   "execution_count": 14,
   "id": "b17a8159-4453-46ea-af0d-4f10faf91042",
   "metadata": {},
   "outputs": [
    {
     "name": "stdout",
     "output_type": "stream",
     "text": [
      " No errors found.\n",
      " No errors found.\n",
      " No errors found.\n",
      " No errors found.\n",
      " No errors found.\n",
      " No errors found.\n",
      " No errors found.\n",
      "\n",
      "Corrected version:\n",
      "\n",
      "```\n",
      "This phrase is to check chatGPT for spelling ability.```\n"
     ]
    }
   ],
   "source": [
    "text = [ \n",
    "  \"The girl with the black and white puppies have a ball.\",  # The girl has a ball.\n",
    "  \"Yolanda has her notebook.\", # ok\n",
    "  \"Its going to be a long day. Does the car need it’s oil changed?\",  # Homonyms\n",
    "  \"Their goes my freedom. There going to bring they’re suitcases.\",  # Homonyms\n",
    "  \"Your going to need you’re notebook.\",  # Homonyms\n",
    "  \"That medicine effects my ability to sleep. Have you heard of the butterfly affect?\", # Homonyms\n",
    "  \"This phrase is to cherck chatGPT for speling abilitty\"  # spelling\n",
    "]\n",
    "for t in text:\n",
    "    prompt = f\"\"\"Proofread and correct the following text\n",
    "    and rewrite the corrected version. If you don't find\n",
    "    and errors, just say \"No errors found\". Don't use \n",
    "    any punctuation around the text:\n",
    "    ```{t}```\"\"\"\n",
    "    response = get_completion(prompt)\n",
    "    print(response)"
   ]
  },
  {
   "cell_type": "code",
   "execution_count": 15,
   "id": "187c4a75-f05e-49bc-90e5-9135f71b7084",
   "metadata": {},
   "outputs": [
    {
     "name": "stdout",
     "output_type": "stream",
     "text": [
      " Here's the proofread and corrected version of your review:\n",
      "\n",
      "\n",
      "---\n",
      "\n",
      "Got this for my daughter for her birthday because she keeps taking mine from my room. Yes, adults also like pandas too. She takes it everywhere with her, and it's super soft and cute. One of the ears is a bit lower than the other, which I don't think was designed to be asymmetrical. It's a bit small for what I paid for it, though. I think there might be other options that are bigger for the same price. It arrived a day earlier than expected, so I got to play with it myself before giving it to my daughter.\n",
      "\n",
      "\n",
      "---\n",
      "\n",
      "Let me know if you need any further adjustments!\n"
     ]
    }
   ],
   "source": [
    "text = f\"\"\"\n",
    "Got this for my daughter for her birthday cuz she keeps taking \\\n",
    "mine from my room.  Yes, adults also like pandas too.  She takes \\\n",
    "it everywhere with her, and it's super soft and cute.  One of the \\\n",
    "ears is a bit lower than the other, and I don't think that was \\\n",
    "designed to be asymmetrical. It's a bit small for what I paid for it \\\n",
    "though. I think there might be other options that are bigger for \\\n",
    "the same price.  It arrived a day earlier than expected, so I got \\\n",
    "to play with it myself before I gave it to my daughter.\n",
    "\"\"\"\n",
    "prompt = f\"proofread and correct this review: ```{text}```\"\n",
    "response = get_completion(prompt)\n",
    "print(response)"
   ]
  },
  {
   "cell_type": "code",
   "execution_count": null,
   "id": "1c907aef-5df4-43a3-966f-a75d79583eb9",
   "metadata": {},
   "outputs": [],
   "source": [
    "from redlines import Redlines\n",
    "\n",
    "diff = Redlines(text,response)\n",
    "display(Markdown(diff.output_markdown))"
   ]
  },
  {
   "cell_type": "code",
   "execution_count": null,
   "id": "1daafce5-aa27-4a5e-aa5f-1fd327d7fc26",
   "metadata": {},
   "outputs": [],
   "source": [
    "prompt = f\"\"\"\n",
    "proofread and correct this review. Make it more compelling. \n",
    "Ensure it follows APA style guide and targets an advanced reader. \n",
    "Output in markdown format.\n",
    "Text: ```{text}```\n",
    "\"\"\"\n",
    "response = get_completion(prompt)\n",
    "display(Markdown(response))"
   ]
  },
  {
   "cell_type": "markdown",
   "id": "a42d164a-c926-46ca-84c1-78764737196a",
   "metadata": {},
   "source": [
    "## Try it yourself!\n",
    "Try changing the instructions to form your own review."
   ]
  },
  {
   "cell_type": "code",
   "execution_count": null,
   "id": "7df36b18-d2aa-466e-85b9-42cab8774811",
   "metadata": {},
   "outputs": [],
   "source": []
  },
  {
   "cell_type": "markdown",
   "id": "7bb09c51-0ba8-4e8f-a0fb-4f75b15f321e",
   "metadata": {},
   "source": [
    "Thanks to the following sites:\n",
    "\n",
    "https://writingprompts.com/bad-grammar-examples/"
   ]
  }
 ],
 "metadata": {
  "kernelspec": {
   "display_name": "Python 3 (ipykernel)",
   "language": "python",
   "name": "python3"
  },
  "language_info": {
   "codemirror_mode": {
    "name": "ipython",
    "version": 3
   },
   "file_extension": ".py",
   "mimetype": "text/x-python",
   "name": "python",
   "nbconvert_exporter": "python",
   "pygments_lexer": "ipython3",
   "version": "3.11.9"
  }
 },
 "nbformat": 4,
 "nbformat_minor": 5
}
