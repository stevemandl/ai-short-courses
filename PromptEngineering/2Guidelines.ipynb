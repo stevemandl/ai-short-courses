{
 "cells": [
  {
   "cell_type": "code",
   "execution_count": 1,
   "id": "5b6749dc-cd5f-4b54-a7bb-4f7758f6c0f2",
   "metadata": {
    "editable": true,
    "slideshow": {
     "slide_type": ""
    },
    "tags": []
   },
   "outputs": [],
   "source": [
    "import json\n",
    "import boto3\n",
    "import panel as pn  # GUI\n",
    "\n",
    "bedrock_runtime = boto3.client(\n",
    "    service_name=\"bedrock-runtime\",\n",
    "    region_name=\"us-east-1\",\n",
    ")"
   ]
  },
  {
   "cell_type": "markdown",
   "id": "b88e54e8-3e57-4b07-96a9-2056f0ee9333",
   "metadata": {},
   "source": [
    "# Notes\n",
    "\n",
    "This repository is meant to follow along with the \n",
    "**[chatgpt prompt engineering short course](https://www.deeplearning.ai/short-courses/chatgpt-prompt-engineering-for-developers)**\n",
    "\n",
    "We will use the Amazon bedrock API to access various LLMs instead of the openai API to access chatGPT models as in the deeplearning.at follow-along notebooks."
   ]
  },
  {
   "cell_type": "code",
   "execution_count": 2,
   "id": "48a9af1a-c754-4796-9712-8fac23d0cfe6",
   "metadata": {
    "editable": true,
    "slideshow": {
     "slide_type": ""
    },
    "tags": []
   },
   "outputs": [],
   "source": [
    "def get_completion(prompt, modelId=\"ai21.jamba-1-5-mini-v1:0\"):\n",
    "    messages = [{\"role\": \"user\", \"content\": prompt}]\n",
    "    body = {\n",
    "        \"messages\": messages,\n",
    "        \"temperature\": 0\n",
    "    }\n",
    "    response = bedrock_runtime.invoke_model(\n",
    "        body=json.dumps(body),\n",
    "        modelId=modelId\n",
    "    )\n",
    "    response_body = json.loads(response.get(\"body\").read())\n",
    "    return response_body.get(\"choices\")[0][\"message\"][\"content\"]\n"
   ]
  },
  {
   "cell_type": "code",
   "execution_count": 3,
   "id": "1b6c8546-912d-4182-af53-23c884820ac0",
   "metadata": {},
   "outputs": [
    {
     "name": "stdout",
     "output_type": "stream",
     "text": [
      " To achieve the desired output from a model, provide clear and specific instructions, as longer prompts often offer more clarity and context, leading to more detailed and relevant responses.\n"
     ]
    }
   ],
   "source": [
    "text = f\"\"\"\n",
    "You should express what you want a model to do by \\ \n",
    "providing instructions that are as clear and \\ \n",
    "specific as you can possibly make them. \\ \n",
    "This will guide the model towards the desired output, \\ \n",
    "and reduce the chances of receiving irrelevant \\ \n",
    "or incorrect responses. Don't confuse writing a \\ \n",
    "clear prompt with writing a short prompt. \\ \n",
    "In many cases, longer prompts provide more clarity \\ \n",
    "and context for the model, which can lead to \\ \n",
    "more detailed and relevant outputs.\n",
    "\"\"\"\n",
    "prompt = f\"\"\"\n",
    "Summarize the text delimited by triple backticks \\ \n",
    "into a single sentence.\n",
    "```{text}```\n",
    "\"\"\"\n",
    "response = get_completion(prompt)\n",
    "print(response)"
   ]
  },
  {
   "cell_type": "code",
   "execution_count": 4,
   "id": "b85e67bd-3555-48c2-9445-246ae990933b",
   "metadata": {},
   "outputs": [
    {
     "name": "stdout",
     "output_type": "stream",
     "text": [
      " ```json\n",
      "[\n",
      "  {\n",
      "    \"book_id\": 1,\n",
      "    \"title\": \"The Enchanted Grove\",\n",
      "    \"author\": \"Aria Evergreen\",\n",
      "    \"genre\": \"Fantasy\"\n",
      "  },\n",
      "  {\n",
      "    \"book_id\": 2,\n",
      "    \"title\": \"The Quantum Architect\",\n",
      "    \"author\": \"Jasper Nova\",\n",
      "    \"genre\": \"Science Fiction\"\n",
      "  },\n",
      "  {\n",
      "    \"book_id\": 3,\n",
      "    \"title\": \"Whispers of the Celestial Sea\",\n",
      "    \"author\": \"Lydia Starling\",\n",
      "    \"genre\": \"Mystery\"\n",
      "  }\n",
      "]\n",
      "```\n",
      "\n"
     ]
    }
   ],
   "source": [
    "prompt = f\"\"\"\n",
    "Generate a list of three made-up book titles along \\ \n",
    "with their authors and genres. \n",
    "Provide them in JSON format with the following keys: \n",
    "book_id, title, author, genre.\n",
    "\"\"\"\n",
    "response = get_completion(prompt)\n",
    "print(response)"
   ]
  },
  {
   "cell_type": "code",
   "execution_count": 5,
   "id": "e7253169-d615-4298-8895-7fde7a650228",
   "metadata": {},
   "outputs": [
    {
     "name": "stdout",
     "output_type": "stream",
     "text": [
      "Completion for Text 1:\n",
      " Making a cup of tea is easy!\n",
      "\n",
      "Step 1 - Get some water boiling.\n",
      "Step 2 - Grab a cup and put a tea bag in it.\n",
      "Step 3 - Once the water is hot enough, pour it over the tea bag.\n",
      "Step 4 - Let it sit for a bit so the tea can steep.\n",
      "Step 5 - After a few minutes, take out the tea bag.\n",
      "Step 6 - If you like, add some sugar or milk to taste.\n",
      "\n",
      "And that's it! You've got yourself a delicious cup of tea to enjoy.\n"
     ]
    }
   ],
   "source": [
    "text_1 = \"\"\"\n",
    "Making a cup of tea is easy! First, you need to get some \\\n",
    "water boiling. While that's happening, \\\n",
    "grab a cup and put a tea bag in it. Once the water is \\\n",
    "hot enough, just pour it over the tea bag. \\\n",
    "Let it sit for a bit so the tea can steep. After a \\\n",
    "few minutes, take out the tea bag. If you \\\n",
    "like, you can add some sugar or milk to taste. \\\n",
    "And that's it! You've got yourself a delicious \\\n",
    "cup of tea to enjoy.\n",
    "\"\"\"\n",
    "prompt = f\"\"\"\n",
    "You will be provided with text delimited by triple backticks.\n",
    "If it contains a sequence of instructions, \\\n",
    "re-write those instructions in the following format:\n",
    "\n",
    "Step 1 - ...\n",
    "Step 2 - …\n",
    "…\n",
    "Step N - …\n",
    "\n",
    "If the text does not contain a sequence of instructions, \\\n",
    "then simply write \\\"No steps provided.\\\"\n",
    "\n",
    "```{text_1}```\n",
    "\"\"\"\n",
    "response = get_completion(prompt)\n",
    "print(\"Completion for Text 1:\")\n",
    "print(response)"
   ]
  },
  {
   "cell_type": "code",
   "execution_count": 6,
   "id": "20581092-c9cf-4185-af74-932c195c397f",
   "metadata": {},
   "outputs": [
    {
     "name": "stdout",
     "output_type": "stream",
     "text": [
      "Completion for Text 2:\n",
      " No steps provided.\n"
     ]
    }
   ],
   "source": [
    "text_2 = f\"\"\"\n",
    "The sun is shining brightly today, and the birds are \\\n",
    "singing. It's a beautiful day to go for a \\ \n",
    "walk in the park. The flowers are blooming, and the \\ \n",
    "trees are swaying gently in the breeze. People \\ \n",
    "are out and about, enjoying the lovely weather. \\ \n",
    "Some are having picnics, while others are playing \\ \n",
    "games or simply relaxing on the grass. It's a \\ \n",
    "perfect day to spend time outdoors and appreciate the \\ \n",
    "beauty of nature.\n",
    "\"\"\"\n",
    "prompt = f\"\"\"\n",
    "You will be provided with text delimited by triple quotes. \n",
    "If it contains a sequence of instructions, \\ \n",
    "re-write those instructions in the following format:\n",
    "\n",
    "Step 1 - ...\n",
    "Step 2 - …\n",
    "…\n",
    "Step N - …\n",
    "\n",
    "If the text does not contain a sequence of instructions, \\ \n",
    "then simply write \\\"No steps provided.\\\"\n",
    "\n",
    "\\\"\\\"\\\"{text_2}\\\"\\\"\\\"\n",
    "\"\"\"\n",
    "response = get_completion(prompt)\n",
    "print(\"Completion for Text 2:\")\n",
    "print(response)"
   ]
  },
  {
   "cell_type": "code",
   "execution_count": 7,
   "id": "10c43da2-e5aa-4a3d-8477-b1199e44ff48",
   "metadata": {},
   "outputs": [
    {
     "name": "stdout",
     "output_type": "stream",
     "text": [
      " The oak that withstands the fiercest storm has roots that run deep and strong; the mountain that endures for centuries is shaped by the slow, steady hand of time; the heart that finds joy after loss is forged in the fires of adversity.\n"
     ]
    }
   ],
   "source": [
    "prompt = f\"\"\"\n",
    "Your task is to answer in a consistent style.\n",
    "\n",
    "<child>: Teach me about patience.\n",
    "\n",
    "<grandparent>: The river that carves the deepest \\ \n",
    "valley flows from a modest spring; the \\ \n",
    "grandest symphony originates from a single note; \\ \n",
    "the most intricate tapestry begins with a solitary thread.\n",
    "\n",
    "<child>: Teach me about resilience.\n",
    "\"\"\"\n",
    "response = get_completion(prompt)\n",
    "print(response)"
   ]
  },
  {
   "cell_type": "code",
   "execution_count": 8,
   "id": "701e6674-3501-4aae-9d5e-3ded24434a1f",
   "metadata": {},
   "outputs": [
    {
     "name": "stdout",
     "output_type": "stream",
     "text": [
      "Completion for prompt 1:\n",
      " 1. **Summary:** Jack and Jill, siblings in a charming village, set out to fetch water from a well on a hill, but both fall down the hill and return home comforted.\n",
      "\n",
      "2. **French Summary:** Jack et Jill, des frères et sœurs dans un charmant village, se mettent en route pour chercher de l'eau à un puits sur une colline, mais ils tombent tous les deux et rentrent chez eux réconfortés.\n",
      "\n",
      "3. **Names in French Summary:** Jack, Jill.\n",
      "\n",
      "4. **JSON Object:**\n",
      "```json\n",
      "{\n",
      "\"french_summary\": \"Jack et Jill, des frères et sœurs dans un charmant village, se mettent en route pour chercher de l'eau à un puits sur une colline, mais ils tombent tous les deux et rentrent chez eux réconfortés.\",\n",
      "\"num_names\": 2\n",
      "}\n",
      "```\n"
     ]
    }
   ],
   "source": [
    "text = \"\"\"\n",
    "In a charming village, siblings Jack and Jill set out on \\ \n",
    "a quest to fetch water from a hilltop \\ \n",
    "well. As they climbed, singing joyfully, misfortune \\ \n",
    "struck—Jack tripped on a stone and tumbled \\ \n",
    "down the hill, with Jill following suit. \\ \n",
    "Though slightly battered, the pair returned home to \\ \n",
    "comforting embraces. Despite the mishap, \\ \n",
    "their adventurous spirits remained undimmed, and they \\ \n",
    "continued exploring with delight.\n",
    "\"\"\"\n",
    "# example 1\n",
    "prompt_1 = f\"\"\"\n",
    "Perform the following actions sequentially:\n",
    "1 - Summarize the following text delimited by triple \\\n",
    "backticks with 1 sentence.\n",
    "2 - Translate the summary into French.\n",
    "3 - List each name in the French summary.\n",
    "4 - Output a json object that contains the following \\\n",
    "keys: french_summary, num_names.\n",
    "\n",
    "Separate your answers with line breaks.\n",
    "\n",
    "Text:\n",
    "```{text}```\n",
    "\"\"\"\n",
    "response = get_completion(prompt_1)\n",
    "print(\"Completion for prompt 1:\")\n",
    "print(response)"
   ]
  },
  {
   "cell_type": "code",
   "execution_count": 9,
   "id": "84ce5c12-cea0-4c84-8562-f9e675a09dc5",
   "metadata": {},
   "outputs": [
    {
     "name": "stdout",
     "output_type": "stream",
     "text": [
      "\n",
      "Completion for prompt 2:\n",
      " Text: <\n",
      "In a charming village, siblings Jack and Jill set out on a quest to fetch water from a hilltop well. As they climbed, singing joyfully, misfortune struck—Jack tripped on a stone and tumbled down the hill, with Jill following suit. Though slightly battered, the pair returned home to comforting embraces. Despite the mishap, their adventurous spirits remained undimmed, and they continued exploring with delight.\n",
      ">\n",
      "Summary: Jack and Jill, siblings from a charming village, set out to fetch water from a hilltop well, but both tumbled down the hill. Despite their injuries, they returned home and continued their adventures.\n",
      "Translation: Jack et Jill, des frères et sœurs d'un charmant village, se sont mis en quête de fetch de l'eau d'un puits au sommet d'une colline, mais tous les deux ont roulé en bas de la colline. Malgré leurs blessures, ils sont rentrés chez eux et ont continué leurs aventures.\n",
      "Names: Jack, Jill.\n",
      "Output JSON: {\"french_summary\": \"Jack et Jill, des frères et sœurs d'un charmant village, se sont mis en quête de fetch de l'eau d'un puits au sommet d'une colline, mais tous les deux ont roulé en bas de la colline. Malgré leurs blessures, ils sont rentrés chez eux et ont continué leurs aventures.\", \"num_names\": 2}\n"
     ]
    }
   ],
   "source": [
    "prompt_2 = f\"\"\"\n",
    "Your task is to perform the following actions:\n",
    "1 - Summarize the following text delimited by\n",
    "  <> with 1 sentence.\n",
    "2 - Translate the summary into French.\n",
    "3 - List each name in the French summary.\n",
    "4 - Output a json object that contains the\n",
    "  following keys: french_summary, num_names.\n",
    "\n",
    "Use the following format:\n",
    "Text: <text to summarize>\n",
    "Summary: <summary>\n",
    "Translation: <summary translation>\n",
    "Names: <list of names in summary>\n",
    "Output JSON: <json with summary and num_names>\n",
    "\n",
    "Text: <{text}>\n",
    "\"\"\"\n",
    "response = get_completion(prompt_2)\n",
    "print(\"\\nCompletion for prompt 2:\")\n",
    "print(response)"
   ]
  },
  {
   "cell_type": "code",
   "execution_count": 11,
   "id": "3b3f7551-8895-4ee3-bc97-00c28ebc13f5",
   "metadata": {},
   "outputs": [
    {
     "name": "stdout",
     "output_type": "stream",
     "text": [
      " The student's solution is almost correct, but there is a small mistake in the maintenance cost calculation. The maintenance cost should be $10 \\times x$, not $100,000 + 100x$.\n",
      "\n",
      "Here's the corrected solution:\n",
      "\n",
      "Let $x$ be the size of the installation in square feet.\n",
      "\n",
      "Costs:\n",
      "\n",
      "1. Land cost: $100x$\n",
      "2. Solar panel cost: $250x$\n",
      "3. Maintenance cost: $10x$\n",
      "\n",
      "Total cost: $100x + 250x + 10x = 360x$\n",
      "\n",
      "So, the total cost for the first year of operations as a function of the number of square feet is $360x$.\n"
     ]
    }
   ],
   "source": [
    "prompt = f\"\"\"\n",
    "Determine if the student's solution is correct or not.\n",
    "\n",
    "Question:\n",
    "I'm building a solar power installation and I need \\\n",
    " help working out the financials. \n",
    "- Land costs $100 / square foot\n",
    "- I can buy solar panels for $250 / square foot\n",
    "- I negotiated a contract for maintenance that will cost \\ \n",
    "me a flat $100k per year, and an additional $10 / square \\\n",
    "foot\n",
    "What is the total cost for the first year of operations \n",
    "as a function of the number of square feet.\n",
    "\n",
    "Student's Solution:\n",
    "Let x be the size of the installation in square feet.\n",
    "Costs:\n",
    "1. Land cost: 100x\n",
    "2. Solar panel cost: 250x\n",
    "3. Maintenance cost: 100,000 + 100x\n",
    "Total cost: 100x + 250x + 100,000 + 100x = 450x + 100,000\n",
    "\"\"\"\n",
    "response = get_completion(prompt)\n",
    "print(response)"
   ]
  },
  {
   "cell_type": "code",
   "execution_count": 12,
   "id": "12a1fbf8-4e41-4184-a6bb-95ed85ba51e9",
   "metadata": {},
   "outputs": [
    {
     "name": "stdout",
     "output_type": "stream",
     "text": [
      " Let $x$ be the size of the installation in square feet.\n",
      "\n",
      "Costs:\n",
      "\n",
      "1. Land cost: $100x\n",
      "2. Solar panel cost: $250x\n",
      "3. Maintenance cost: $100,000 + $10x\n",
      "\n",
      "Total cost: $100x + 250x + 100,000 + 10x = 360x + 100,000$\n",
      "\n",
      "Is the student's solution the same as actual solution just calculated:\n",
      "\n",
      "no\n",
      "\n",
      "Student grade:\n",
      "\n",
      "incorrect\n"
     ]
    }
   ],
   "source": [
    "prompt = f\"\"\"\n",
    "Your task is to determine if the student's solution \\\n",
    "is correct or not.\n",
    "To solve the problem do the following:\n",
    "- First, work out your own solution to the problem including the final total. \n",
    "- Then compare your solution to the student's solution \\ \n",
    "and evaluate if the student's solution is correct or not. \n",
    "Don't decide if the student's solution is correct until \n",
    "you have done the problem yourself.\n",
    "\n",
    "Use the following format:\n",
    "Question:\n",
    "```\n",
    "question here\n",
    "```\n",
    "Student's solution:\n",
    "```\n",
    "student's solution here\n",
    "```\n",
    "Actual solution:\n",
    "```\n",
    "steps to work out the solution and your solution here\n",
    "```\n",
    "Is the student's solution the same as actual solution \\\n",
    "just calculated:\n",
    "```\n",
    "yes or no\n",
    "```\n",
    "Student grade:\n",
    "```\n",
    "correct or incorrect\n",
    "```\n",
    "\n",
    "Question:\n",
    "```\n",
    "I'm building a solar power installation and I need help \\\n",
    "working out the financials. \n",
    "- Land costs $100 / square foot\n",
    "- I can buy solar panels for $250 / square foot\n",
    "- I negotiated a contract for maintenance that will cost \\\n",
    "me a flat $100k per year, and an additional $10 / square \\\n",
    "foot\n",
    "What is the total cost for the first year of operations \\\n",
    "as a function of the number of square feet.\n",
    "``` \n",
    "Student's solution:\n",
    "```\n",
    "Let x be the size of the installation in square feet.\n",
    "Costs:\n",
    "1. Land cost: 100x\n",
    "2. Solar panel cost: 250x\n",
    "3. Maintenance cost: 100,000 + 100x\n",
    "Total cost: 100x + 250x + 100,000 + 100x = 450x + 100,000\n",
    "```\n",
    "Actual solution:\n",
    "\"\"\"\n",
    "response = get_completion(prompt)\n",
    "print(response)"
   ]
  },
  {
   "cell_type": "code",
   "execution_count": 10,
   "id": "36c3e67c-66f7-4525-a8a0-3cf715b99012",
   "metadata": {},
   "outputs": [
    {
     "name": "stdout",
     "output_type": "stream",
     "text": [
      " Let $x$ be the size of the installation in square feet.\n",
      "\n",
      "Costs:\n",
      "\n",
      "1. Land cost: $100x\n",
      "2. Solar panel cost: $250x\n",
      "3. Maintenance cost: $100,000 + $10x\n",
      "\n",
      "Total cost: $100x + 250x + 100,000 + 10x = 360x + 100,000$\n",
      "\n",
      "Is the student's solution the same as actual solution just calculated:\n",
      "\n",
      "no\n",
      "\n",
      "Student grade:\n",
      "\n",
      "incorrect\n"
     ]
    }
   ],
   "source": [
    "prompt = f\"\"\"\n",
    "Your task is to determine if the student's solution \\\n",
    "is correct or not.\n",
    "To solve the problem do the following:\n",
    "- First, work out your own solution to the problem including the final total. \n",
    "- Then compare your solution to the student's solution \\ \n",
    "and evaluate if the student's solution is correct or not. \n",
    "Don't decide if the student's solution is correct until \n",
    "you have done the problem yourself.\n",
    "\n",
    "Use the following format:\n",
    "Question:\n",
    "```\n",
    "question here\n",
    "```\n",
    "Student's solution:\n",
    "```\n",
    "student's solution here\n",
    "```\n",
    "Actual solution:\n",
    "```\n",
    "steps to work out the solution and your solution here\n",
    "```\n",
    "Is the student's solution the same as actual solution \\\n",
    "just calculated:\n",
    "```\n",
    "yes or no\n",
    "```\n",
    "Student grade:\n",
    "```\n",
    "correct or incorrect\n",
    "```\n",
    "\n",
    "Question:\n",
    "```\n",
    "I'm building a solar power installation and I need help \\\n",
    "working out the financials. \n",
    "- Land costs $100 / square foot\n",
    "- I can buy solar panels for $250 / square foot\n",
    "- I negotiated a contract for maintenance that will cost \\\n",
    "me a flat $100k per year, and an additional $10 / square \\\n",
    "foot\n",
    "What is the total cost for the first year of operations \\\n",
    "as a function of the number of square feet.\n",
    "``` \n",
    "Student's solution:\n",
    "```\n",
    "Let x be the size of the installation in square feet.\n",
    "Costs:\n",
    "1. Land cost: 100x\n",
    "2. Solar panel cost: 250x\n",
    "3. Maintenance cost: 100,000 + 100x\n",
    "Total cost: 100x + 250x + 100,000 + 100x = 450x + 100,000\n",
    "```\n",
    "Actual solution:\n",
    "\"\"\"\n",
    "response = get_completion(prompt)\n",
    "print(response)"
   ]
  },
  {
   "cell_type": "code",
   "execution_count": 11,
   "id": "8dbcc848-483a-48f3-b042-35e2e17d5224",
   "metadata": {},
   "outputs": [
    {
     "name": "stdout",
     "output_type": "stream",
     "text": [
      " The AeroGlide UltraSlim Smart Toothbrush by Boie is a modern oral hygiene device designed to provide an efficient and effective brushing experience. Here are some key features and details about the toothbrush:\n",
      "\n",
      "1. **Design and Build**:\n",
      "\n",
      "\n",
      "  * **Ultra-Slim Design**: The toothbrush is designed to be sleek and slim, making it easy to handle and comfortable to use.\n",
      "  * **Lightweight**: It is lightweight, which adds to the convenience of daily use.\n",
      "\t\n",
      "2. **Smart Features**:\n",
      "\n",
      "\n",
      "  * **Smart Technology**: The toothbrush incorporates smart technology, which may include features like Bluetooth connectivity, app integration, and personalized brushing modes.\n",
      "  * **Brushing Modes**: It likely offers multiple brushing modes to cater to different oral care needs, such as whitening, sensitive, and deep clean modes.\n",
      "\t\n",
      "3. **Performance**:\n",
      "\n",
      "\n",
      "  * **High-Frequency Sonic Technology**: The AeroGlide UltraSlim uses high-frequency sonic vibrations to clean teeth thoroughly. This technology helps in breaking down plaque and reaching between teeth for a more effective clean.\n",
      "  * **Brush Head**: The brush head is designed to be efficient in removing plaque and ensuring a thorough clean. It may feature soft, high-quality bristles that are gentle on gums but effective at cleaning.\n",
      "\t\n",
      "4. **Battery Life**:\n",
      "\n",
      "\n",
      "  * **Long Battery Life**: The toothbrush is designed to have a long battery life, often lasting several weeks on a single charge, making it convenient for travel.\n",
      "\t\n",
      "5. **Sustainability**:\n",
      "\n",
      "\n",
      "  * **Eco-Friendly Materials**: Boie is known for its commitment to sustainability, and the AeroGlide UltraSlim may be made from eco-friendly materials, reducing its environmental impact.\n",
      "\t\n",
      "6. **User Experience**:\n",
      "\n",
      "\n",
      "  * **Ergonomic Handle**: The ergonomic handle ensures a comfortable grip, making it easy to maneuver while brushing.\n",
      "  * **Quiet Operation**: It is designed to operate quietly, providing a pleasant brushing experience.\n",
      "\t\n",
      "7. **Maintenance**:\n",
      "\n",
      "\n",
      "  * **Easy to Clean**: The toothbrush is designed to be easy to clean, with a smooth surface that prevents the buildup of bacteria.\n",
      "\n",
      "\n",
      "Overall, the AeroGlide UltraSlim Smart Toothbrush by Boie aims to combine advanced technology with user-friendly design to enhance oral hygiene routines. Its smart features, ergonomic design, and commitment to sustainability make it a compelling choice for those looking to upgrade their dental care regimen.\n"
     ]
    }
   ],
   "source": [
    "prompt = f\"\"\"\n",
    "Tell me about AeroGlide UltraSlim Smart Toothbrush by Boie\n",
    "\"\"\"\n",
    "response = get_completion(prompt)\n",
    "print(response)"
   ]
  },
  {
   "cell_type": "code",
   "execution_count": null,
   "id": "e33b3dcf-0e71-4477-9706-e81d092b5181",
   "metadata": {},
   "outputs": [],
   "source": []
  }
 ],
 "metadata": {
  "kernelspec": {
   "display_name": "Python 3 (ipykernel)",
   "language": "python",
   "name": "python3"
  },
  "language_info": {
   "codemirror_mode": {
    "name": "ipython",
    "version": 3
   },
   "file_extension": ".py",
   "mimetype": "text/x-python",
   "name": "python",
   "nbconvert_exporter": "python",
   "pygments_lexer": "ipython3",
   "version": "3.11.9"
  }
 },
 "nbformat": 4,
 "nbformat_minor": 5
}
