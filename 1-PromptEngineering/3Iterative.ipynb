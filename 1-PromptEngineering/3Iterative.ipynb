{
 "cells": [
  {
   "cell_type": "markdown",
   "id": "0bb982a2-e0fa-490e-be1f-c8ae38cf0b6d",
   "metadata": {},
   "source": [
    "# Iterative Prompt Development\n",
    "In this lesson, you'll iteratively analyze and refine your prompts to generate marketing copy from a product fact sheet.\n",
    "\n",
    "## Setup"
   ]
  },
  {
   "cell_type": "code",
   "execution_count": 1,
   "id": "5b6749dc-cd5f-4b54-a7bb-4f7758f6c0f2",
   "metadata": {
    "editable": true,
    "slideshow": {
     "slide_type": ""
    },
    "tags": []
   },
   "outputs": [],
   "source": [
    "import json\n",
    "import boto3\n",
    "import panel as pn  # GUI\n",
    "\n",
    "bedrock_runtime = boto3.client(\n",
    "    service_name=\"bedrock-runtime\",\n",
    "    region_name=\"us-east-1\",\n",
    ")"
   ]
  },
  {
   "cell_type": "code",
   "execution_count": 2,
   "id": "48a9af1a-c754-4796-9712-8fac23d0cfe6",
   "metadata": {
    "editable": true,
    "slideshow": {
     "slide_type": ""
    },
    "tags": []
   },
   "outputs": [],
   "source": [
    "def get_completion(prompt, modelId=\"ai21.jamba-1-5-mini-v1:0\"):\n",
    "    messages = [{\"role\": \"user\", \"content\": prompt}]\n",
    "    body = {\n",
    "        \"messages\": messages,\n",
    "        \"temperature\": 0\n",
    "    }\n",
    "    response = bedrock_runtime.invoke_model(\n",
    "        body=json.dumps(body),\n",
    "        modelId=modelId\n",
    "    )\n",
    "    response_body = json.loads(response.get(\"body\").read())\n",
    "    return response_body.get(\"choices\")[0][\"message\"][\"content\"]\n"
   ]
  },
  {
   "cell_type": "markdown",
   "id": "c80a77ee-645d-4d38-9fab-b1cede7099e6",
   "metadata": {},
   "source": [
    "## Generate a marketing product description from a product fact sheet¶"
   ]
  },
  {
   "cell_type": "code",
   "execution_count": 3,
   "id": "8f392846-63ee-49e4-82c8-1c57d5da7573",
   "metadata": {},
   "outputs": [],
   "source": [
    "fact_sheet_chair = \"\"\"\n",
    "OVERVIEW\n",
    "- Part of a beautiful family of mid-century inspired office furniture, \n",
    "including filing cabinets, desks, bookcases, meeting tables, and more.\n",
    "- Several options of shell color and base finishes.\n",
    "- Available with plastic back and front upholstery (SWC-100) \n",
    "or full upholstery (SWC-110) in 10 fabric and 6 leather options.\n",
    "- Base finish options are: stainless steel, matte black, \n",
    "gloss white, or chrome.\n",
    "- Chair is available with or without armrests.\n",
    "- Suitable for home or business settings.\n",
    "- Qualified for contract use.\n",
    "\n",
    "CONSTRUCTION\n",
    "- 5-wheel plastic coated aluminum base.\n",
    "- Pneumatic chair adjust for easy raise/lower action.\n",
    "\n",
    "DIMENSIONS\n",
    "- WIDTH 53 CM | 20.87”\n",
    "- DEPTH 51 CM | 20.08”\n",
    "- HEIGHT 80 CM | 31.50”\n",
    "- SEAT HEIGHT 44 CM | 17.32”\n",
    "- SEAT DEPTH 41 CM | 16.14”\n",
    "\n",
    "OPTIONS\n",
    "- Soft or hard-floor caster options.\n",
    "- Two choices of seat foam densities: \n",
    " medium (1.8 lb/ft3) or high (2.8 lb/ft3)\n",
    "- Armless or 8 position PU armrests \n",
    "\n",
    "MATERIALS\n",
    "SHELL BASE GLIDER\n",
    "- Cast Aluminum with modified nylon PA6/PA66 coating.\n",
    "- Shell thickness: 10 mm.\n",
    "SEAT\n",
    "- HD36 foam\n",
    "\n",
    "COUNTRY OF ORIGIN\n",
    "- Italy\n",
    "\"\"\""
   ]
  },
  {
   "cell_type": "code",
   "execution_count": 4,
   "id": "130321ec-492d-4d1a-9112-a8ab632626cd",
   "metadata": {},
   "outputs": [
    {
     "name": "stdout",
     "output_type": "stream",
     "text": [
      " **Product Description:**\n",
      "\n",
      "Introducing the SWC-100/110 Office Chair, a stunning addition to any workspace, inspired by the timeless elegance of mid-century design. This versatile chair is perfect for both home and business settings, offering a range of customization options to suit your personal style and functional needs.\n",
      "\n",
      "Choose between two upholstery options: plastic back and front (SWC-100) or full upholstery (SWC-110), available in ten fabric and six leather choices. The chair's base is available in stainless steel, matte black, gloss white, or chrome finishes, allowing you to create a look that complements your decor. Additionally, you can opt for armrests or a sleek armless design, and select from two seat foam densities—medium (1.8 lb/ft3) or high (2.8 lb/ft3)—for the ultimate in comfort.\n",
      "\n",
      "Constructed with a durable 5-wheel plastic-coated aluminum base and featuring a pneumatic chair adjust for easy height control, this chair ensures both stability and ease of use. Its dimensions (W 53 cm | 20.87”, D 51 cm | 20.08”, H 80 cm | 31.50”) and seat height (44 cm | 17.32”) make it a comfortable and practical choice for any workspace.\n",
      "\n",
      "Crafted in Italy, the SWC-100/110 Office Chair combines quality craftsmanship with modern functionality, making it an ideal choice for those seeking both style and practicality in their office furniture. Whether you're working from home or furnishing a professional office, this chair is designed to meet your needs with elegance and efficiency.\n"
     ]
    }
   ],
   "source": [
    "prompt = f\"\"\"\n",
    "Your task is to help a marketing team create a \n",
    "description for a retail website of a product based \n",
    "on a technical fact sheet.\n",
    "\n",
    "Write a product description based on the information \n",
    "provided in the technical specifications delimited by \n",
    "triple backticks.\n",
    "\n",
    "Technical specifications: ```{fact_sheet_chair}```\n",
    "\"\"\"\n",
    "response = get_completion(prompt)\n",
    "print(response)\n"
   ]
  },
  {
   "cell_type": "markdown",
   "id": "f21e6452-8169-46d6-b3f9-69ab8254cd3c",
   "metadata": {},
   "source": [
    "## Issue 1: The text is too long \n",
    "- Limit the number of words/sentences/characters."
   ]
  },
  {
   "cell_type": "code",
   "execution_count": 5,
   "id": "fee3165a-d01f-4088-97b9-7fbf44b3d68a",
   "metadata": {},
   "outputs": [
    {
     "name": "stdout",
     "output_type": "stream",
     "text": [
      " Experience the elegance of mid-century design with our versatile office chair. Choose from various shell colors, base finishes, and upholstery options to match your style. Perfect for any setting, this chair features a 5-wheel base, pneumatic height adjustment, and high-density foam for ultimate comfort. Made in Italy.\n"
     ]
    }
   ],
   "source": [
    "prompt = f\"\"\"\n",
    "Your task is to help a marketing team create a \n",
    "description for a retail website of a product based \n",
    "on a technical fact sheet.\n",
    "\n",
    "Write a product description based on the information \n",
    "provided in the technical specifications delimited by \n",
    "triple backticks.\n",
    "\n",
    "Use at most 50 words.\n",
    "\n",
    "Technical specifications: ```{fact_sheet_chair}```\n",
    "\"\"\"\n",
    "response = get_completion(prompt)\n",
    "print(response)\n"
   ]
  },
  {
   "cell_type": "code",
   "execution_count": 6,
   "id": "48c1562d-a534-443d-8986-3068216e2c3d",
   "metadata": {},
   "outputs": [
    {
     "data": {
      "text/plain": [
       "47"
      ]
     },
     "execution_count": 6,
     "metadata": {},
     "output_type": "execute_result"
    }
   ],
   "source": [
    "len(response.split())"
   ]
  },
  {
   "cell_type": "markdown",
   "id": "174b7649-5d6d-4289-b6bf-9a5db8d2f15b",
   "metadata": {},
   "source": [
    "## Issue 2. Text focuses on the wrong details\n",
    "- Ask it to focus on the aspects that are relevant to the intended audience."
   ]
  },
  {
   "cell_type": "code",
   "execution_count": 7,
   "id": "0c9fac5d-1a04-4a99-a94d-8a852a923946",
   "metadata": {},
   "outputs": [
    {
     "name": "stdout",
     "output_type": "stream",
     "text": [
      " Crafted in Italy, this office chair features a cast aluminum shell with a modified nylon PA6/PA66 coating, ensuring durability and a sleek finish. The seat is constructed from high-density HD36 foam, providing exceptional comfort. The 5-wheel base is made of plastic-coated aluminum, complemented by a pneumatic chair adjust for smooth height adjustment.\n"
     ]
    }
   ],
   "source": [
    "prompt = f\"\"\"\n",
    "Your task is to help a marketing team create a \n",
    "description for a retail website of a product based \n",
    "on a technical fact sheet.\n",
    "\n",
    "Write a product description based on the information \n",
    "provided in the technical specifications delimited by \n",
    "triple backticks.\n",
    "\n",
    "The description is intended for furniture retailers, \n",
    "so should be technical in nature and focus on the \n",
    "materials the product is constructed from.\n",
    "\n",
    "Use at most 50 words.\n",
    "\n",
    "Technical specifications: ```{fact_sheet_chair}```\n",
    "\"\"\"\n",
    "response = get_completion(prompt)\n",
    "print(response)"
   ]
  },
  {
   "cell_type": "code",
   "execution_count": 8,
   "id": "88946cff-df7a-4e75-a742-e5ca3563cb91",
   "metadata": {},
   "outputs": [
    {
     "name": "stdout",
     "output_type": "stream",
     "text": [
      " The SWC-100 office chair features a cast aluminum shell with a modified nylon PA6/PA66 coating, ensuring durability and a sleek finish. Its seat is constructed from high-density HD36 foam, providing comfort and support. The chair is mounted on a 5-wheel base made of plastic-coated aluminum, with options for soft or hard-floor casters. Product ID: 20871.\n"
     ]
    }
   ],
   "source": [
    "prompt = f\"\"\"\n",
    "Your task is to help a marketing team create a \n",
    "description for a retail website of a product based \n",
    "on a technical fact sheet.\n",
    "\n",
    "Write a product description based on the information \n",
    "provided in the technical specifications delimited by \n",
    "triple backticks.\n",
    "\n",
    "The description is intended for furniture retailers, \n",
    "so should be technical in nature and focus on the \n",
    "materials the product is constructed from.\n",
    "\n",
    "At the end of the description, include every 7-character \n",
    "Product ID in the technical specification.\n",
    "\n",
    "Use at most 50 words.\n",
    "\n",
    "Technical specifications: ```{fact_sheet_chair}```\n",
    "\"\"\"\n",
    "response = get_completion(prompt)\n",
    "print(response)"
   ]
  },
  {
   "cell_type": "markdown",
   "id": "465b6b95-e16a-48d1-acf5-6978cca11cb7",
   "metadata": {},
   "source": [
    "## Issue 3. Description needs a table of dimensions\n",
    "- Ask it to extract information and organize it in a table."
   ]
  },
  {
   "cell_type": "code",
   "execution_count": 9,
   "id": "0ce597e6-179b-411f-86b6-588e2a9345ec",
   "metadata": {},
   "outputs": [
    {
     "name": "stdout",
     "output_type": "stream",
     "text": [
      " <div>\n",
      "  <p>\n",
      "    This mid-century inspired office chair is constructed with a cast aluminum shell featuring a modified nylon PA6/PA66 coating, ensuring durability and a sleek finish. The shell boasts a thickness of 10 mm, providing robust support. The seat is crafted from high-density HD36 foam, offering exceptional comfort and longevity. The chair is mounted on a 5-wheel base made of plastic-coated aluminum, ensuring smooth mobility. A pneumatic chair adjust allows for effortless height adjustment.\n",
      "  </p>\n",
      "  <p>\n",
      "    Product IDs: SWC-100, SWC-110.\n",
      "  </p>\n",
      "  <h2>Product Dimensions</h2>\n",
      "  <table>\n",
      "    <thead>\n",
      "      <tr>\n",
      "        <th>Dimension</th>\n",
      "        <th>Measurements</th>\n",
      "      </tr>\n",
      "    </thead>\n",
      "    <tbody>\n",
      "      <tr>\n",
      "        <td>Width</td>\n",
      "        <td>53 CM | 20.87”</td>\n",
      "      </tr>\n",
      "      <tr>\n",
      "        <td>Depth</td>\n",
      "        <td>51 CM | 20.08”</td>\n",
      "      </tr>\n",
      "      <tr>\n",
      "        <td>Height</td>\n",
      "        <td>80 CM | 31.50”</td>\n",
      "      </tr>\n",
      "      <tr>\n",
      "        <td>Seat Height</td>\n",
      "        <td>44 CM | 17.32”</td>\n",
      "      </tr>\n",
      "      <tr>\n",
      "        <td>Seat Depth</td>\n",
      "        <td>41 CM | 16.14”</td>\n",
      "      </tr>\n",
      "    </tbody>\n",
      "  </table>\n",
      "</div>\n"
     ]
    }
   ],
   "source": [
    "prompt = f\"\"\"\n",
    "Your task is to help a marketing team create a \n",
    "description for a retail website of a product based \n",
    "on a technical fact sheet.\n",
    "\n",
    "Write a product description based on the information \n",
    "provided in the technical specifications delimited by \n",
    "triple backticks.\n",
    "\n",
    "The description is intended for furniture retailers, \n",
    "so should be technical in nature and focus on the \n",
    "materials the product is constructed from.\n",
    "\n",
    "At the end of the description, include every 7-character \n",
    "Product ID in the technical specification.\n",
    "\n",
    "After the description, include a table that gives the \n",
    "product's dimensions. The table should have two columns.\n",
    "In the first column include the name of the dimension. \n",
    "In the second column include the measurements in inches only.\n",
    "\n",
    "Give the table the title 'Product Dimensions'.\n",
    "\n",
    "Format everything as HTML that can be used in a website. \n",
    "Place the description in a <div> element.\n",
    "\n",
    "Technical specifications: ```{fact_sheet_chair}```\n",
    "\"\"\"\n",
    "\n",
    "response = get_completion(prompt)\n",
    "print(response)"
   ]
  },
  {
   "cell_type": "markdown",
   "id": "b97b118f-699d-4771-89e7-1239de514576",
   "metadata": {},
   "source": [
    "## Load Python libraries to view HTML"
   ]
  },
  {
   "cell_type": "code",
   "execution_count": 10,
   "id": "2ed41569-c6ce-40d6-b95f-1d9a2b5e961a",
   "metadata": {},
   "outputs": [],
   "source": [
    "from IPython.display import display, HTML"
   ]
  },
  {
   "cell_type": "code",
   "execution_count": 11,
   "id": "8e442811-8643-4ebc-880e-2706cf20029a",
   "metadata": {},
   "outputs": [
    {
     "data": {
      "text/html": [
       " <div>\n",
       "  <p>\n",
       "    This mid-century inspired office chair is constructed with a cast aluminum shell featuring a modified nylon PA6/PA66 coating, ensuring durability and a sleek finish. The shell boasts a thickness of 10 mm, providing robust support. The seat is crafted from high-density HD36 foam, offering exceptional comfort and longevity. The chair is mounted on a 5-wheel base made of plastic-coated aluminum, ensuring smooth mobility. A pneumatic chair adjust allows for effortless height adjustment.\n",
       "  </p>\n",
       "  <p>\n",
       "    Product IDs: SWC-100, SWC-110.\n",
       "  </p>\n",
       "  <h2>Product Dimensions</h2>\n",
       "  <table>\n",
       "    <thead>\n",
       "      <tr>\n",
       "        <th>Dimension</th>\n",
       "        <th>Measurements</th>\n",
       "      </tr>\n",
       "    </thead>\n",
       "    <tbody>\n",
       "      <tr>\n",
       "        <td>Width</td>\n",
       "        <td>53 CM | 20.87”</td>\n",
       "      </tr>\n",
       "      <tr>\n",
       "        <td>Depth</td>\n",
       "        <td>51 CM | 20.08”</td>\n",
       "      </tr>\n",
       "      <tr>\n",
       "        <td>Height</td>\n",
       "        <td>80 CM | 31.50”</td>\n",
       "      </tr>\n",
       "      <tr>\n",
       "        <td>Seat Height</td>\n",
       "        <td>44 CM | 17.32”</td>\n",
       "      </tr>\n",
       "      <tr>\n",
       "        <td>Seat Depth</td>\n",
       "        <td>41 CM | 16.14”</td>\n",
       "      </tr>\n",
       "    </tbody>\n",
       "  </table>\n",
       "</div>"
      ],
      "text/plain": [
       "<IPython.core.display.HTML object>"
      ]
     },
     "metadata": {},
     "output_type": "display_data"
    }
   ],
   "source": [
    "display(HTML(response))"
   ]
  },
  {
   "cell_type": "markdown",
   "id": "dd7f588e-0313-4241-ac51-bacc64af02b1",
   "metadata": {},
   "source": [
    "## Try experimenting on your own!"
   ]
  },
  {
   "cell_type": "code",
   "execution_count": null,
   "id": "de318d26-fe2e-487c-b71f-7756a3485d6f",
   "metadata": {},
   "outputs": [],
   "source": []
  }
 ],
 "metadata": {
  "kernelspec": {
   "display_name": "Python 3 (ipykernel)",
   "language": "python",
   "name": "python3"
  },
  "language_info": {
   "codemirror_mode": {
    "name": "ipython",
    "version": 3
   },
   "file_extension": ".py",
   "mimetype": "text/x-python",
   "name": "python",
   "nbconvert_exporter": "python",
   "pygments_lexer": "ipython3",
   "version": "3.11.9"
  }
 },
 "nbformat": 4,
 "nbformat_minor": 5
}
