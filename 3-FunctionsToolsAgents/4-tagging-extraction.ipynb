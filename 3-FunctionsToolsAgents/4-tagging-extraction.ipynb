{
 "cells": [
  {
   "cell_type": "markdown",
   "id": "a0771340-02b7-48c4-9429-e713de5ff851",
   "metadata": {},
   "source": [
    "# Tagging and Extraction Using Bedrock tools"
   ]
  },
  {
   "cell_type": "code",
   "execution_count": 1,
   "id": "fdb1bdd5-9f19-4f1a-8b65-f0fccba82389",
   "metadata": {
    "editable": true,
    "slideshow": {
     "slide_type": ""
    },
    "tags": []
   },
   "outputs": [],
   "source": [
    "import json\n",
    "import boto3\n",
    "import panel as pn  # GUI\n",
    "\n",
    "bedrock_runtime = boto3.client(\n",
    "    service_name=\"bedrock-runtime\",\n",
    "    region_name=\"us-east-1\",\n",
    ")"
   ]
  },
  {
   "cell_type": "code",
   "execution_count": 2,
   "id": "67aa2029-cb8f-45f5-ab27-4c8f3cc29dc1",
   "metadata": {},
   "outputs": [],
   "source": [
    "from typing import List\n",
    "from pydantic import BaseModel, Field\n",
    "from langchain_aws.function_calling import convert_to_anthropic_tool"
   ]
  },
  {
   "cell_type": "code",
   "execution_count": 3,
   "id": "f2e71320-df5c-46fe-9123-e6c396f0bc1f",
   "metadata": {},
   "outputs": [],
   "source": [
    "class Tagging(BaseModel):\n",
    "    \"\"\"Tag the piece of text with particular info.\"\"\"\n",
    "    sentiment: str = Field(description=\"sentiment of text, should be `pos`, `neg`, or `neutral`\")\n",
    "    language: str = Field(description=\"language of text (should be ISO 639-1 code)\")"
   ]
  },
  {
   "cell_type": "code",
   "execution_count": 4,
   "id": "bb7c84a9-b9cc-4462-8d47-130f97e43b02",
   "metadata": {},
   "outputs": [
    {
     "data": {
      "text/plain": [
       "{'name': 'Tagging',\n",
       " 'description': 'Tag the piece of text with particular info.',\n",
       " 'input_schema': {'properties': {'sentiment': {'description': 'sentiment of text, should be `pos`, `neg`, or `neutral`',\n",
       "    'type': 'string'},\n",
       "   'language': {'description': 'language of text (should be ISO 639-1 code)',\n",
       "    'type': 'string'}},\n",
       "  'required': ['sentiment', 'language'],\n",
       "  'type': 'object'}}"
      ]
     },
     "execution_count": 4,
     "metadata": {},
     "output_type": "execute_result"
    }
   ],
   "source": [
    "convert_to_anthropic_tool(Tagging)"
   ]
  },
  {
   "cell_type": "code",
   "execution_count": 5,
   "id": "64661a3c-f69a-481f-ab38-46877a0cbd0f",
   "metadata": {},
   "outputs": [],
   "source": [
    "from langchain.prompts import ChatPromptTemplate\n",
    "from langchain_aws import ChatBedrock\n"
   ]
  },
  {
   "cell_type": "code",
   "execution_count": 6,
   "id": "16556c20-58d0-4198-8030-1377a612687a",
   "metadata": {},
   "outputs": [],
   "source": [
    "model = ChatBedrock(\n",
    "    model_id=\"anthropic.claude-3-5-sonnet-20240620-v1:0\",\n",
    "    model_kwargs=dict(temperature=0)\n",
    ")"
   ]
  },
  {
   "cell_type": "code",
   "execution_count": 7,
   "id": "ab4e15e2-4b59-498b-b1cf-89133d67ed8d",
   "metadata": {},
   "outputs": [],
   "source": [
    "tagging_tools = [convert_to_anthropic_tool(Tagging)]"
   ]
  },
  {
   "cell_type": "code",
   "execution_count": 8,
   "id": "5e85b519-3794-4e11-a9b3-604aeba3f11d",
   "metadata": {},
   "outputs": [],
   "source": [
    "prompt = ChatPromptTemplate.from_messages([\n",
    "    (\"system\", \"Think carefully, and then tag the text as instructed\"),\n",
    "    (\"user\", \"{input}\")\n",
    "])"
   ]
  },
  {
   "cell_type": "code",
   "execution_count": 9,
   "id": "2a61d086-e5fd-475d-a12d-abe148862b2b",
   "metadata": {},
   "outputs": [],
   "source": [
    "model_with_tools = model.bind(\n",
    "    tools=tagging_tools, \n",
    "    tool_choice={\"type\": \"tool\", \"name\": \"Tagging\"}\n",
    ")"
   ]
  },
  {
   "cell_type": "code",
   "execution_count": 10,
   "id": "b8679473-01ee-4510-9d82-c002ef90e8d2",
   "metadata": {},
   "outputs": [],
   "source": [
    "tagging_chain = prompt | model_with_tools"
   ]
  },
  {
   "cell_type": "code",
   "execution_count": 11,
   "id": "083a8df7-0424-48f1-8ed0-aaf9a805ef03",
   "metadata": {},
   "outputs": [
    {
     "data": {
      "text/plain": [
       "AIMessage(content='', additional_kwargs={'usage': {'prompt_tokens': 412, 'completion_tokens': 50, 'total_tokens': 462}, 'stop_reason': 'tool_use', 'model_id': 'anthropic.claude-3-5-sonnet-20240620-v1:0'}, response_metadata={'usage': {'prompt_tokens': 412, 'completion_tokens': 50, 'total_tokens': 462}, 'stop_reason': 'tool_use', 'model_id': 'anthropic.claude-3-5-sonnet-20240620-v1:0'}, id='run-158e8b44-881f-401f-8dc0-ae5936f55a9e-0', tool_calls=[{'name': 'Tagging', 'args': {'sentiment': 'pos', 'language': 'en'}, 'id': 'toolu_bdrk_01MyVBP2AHS2A8rL4votg53q', 'type': 'tool_call'}], usage_metadata={'input_tokens': 412, 'output_tokens': 50, 'total_tokens': 462})"
      ]
     },
     "execution_count": 11,
     "metadata": {},
     "output_type": "execute_result"
    }
   ],
   "source": [
    "tagging_chain.invoke({\"input\": \"I love langchain\"})"
   ]
  },
  {
   "cell_type": "code",
   "execution_count": 12,
   "id": "c140185e-f47f-45b3-8176-c5e55b5702d6",
   "metadata": {},
   "outputs": [
    {
     "data": {
      "text/plain": [
       "AIMessage(content='', additional_kwargs={'usage': {'prompt_tokens': 415, 'completion_tokens': 50, 'total_tokens': 465}, 'stop_reason': 'tool_use', 'model_id': 'anthropic.claude-3-5-sonnet-20240620-v1:0'}, response_metadata={'usage': {'prompt_tokens': 415, 'completion_tokens': 50, 'total_tokens': 465}, 'stop_reason': 'tool_use', 'model_id': 'anthropic.claude-3-5-sonnet-20240620-v1:0'}, id='run-e577ee1a-4464-4180-9597-dd0a0e3a8860-0', tool_calls=[{'name': 'Tagging', 'args': {'sentiment': 'neg', 'language': 'it'}, 'id': 'toolu_bdrk_0149sVQhNmTwmwmma9qHVbYe', 'type': 'tool_call'}], usage_metadata={'input_tokens': 415, 'output_tokens': 50, 'total_tokens': 465})"
      ]
     },
     "execution_count": 12,
     "metadata": {},
     "output_type": "execute_result"
    }
   ],
   "source": [
    "tagging_chain.invoke({\"input\": \"non mi piace questo cibo\"})"
   ]
  },
  {
   "cell_type": "markdown",
   "id": "7dad24b8-0804-4adb-aded-5a6617ef6e6c",
   "metadata": {},
   "source": [
    "## Parsers\n",
    "\n",
    "There are a couple of options for output parsers"
   ]
  },
  {
   "cell_type": "code",
   "execution_count": 13,
   "id": "0b1ba0e1-b4e8-4f18-8f2f-8fea795d4fad",
   "metadata": {},
   "outputs": [],
   "source": [
    "from langchain.output_parsers.openai_tools import JsonOutputKeyToolsParser\n",
    "from langchain_aws.function_calling import ToolsOutputParser"
   ]
  },
  {
   "cell_type": "code",
   "execution_count": 14,
   "id": "22cc39d7-3d0b-4640-b71d-8ca3ab3703b2",
   "metadata": {},
   "outputs": [],
   "source": [
    "tagging_chain = prompt | model_with_tools | JsonOutputKeyToolsParser(\n",
    "    key_name=\"Tagging\", first_tool_only=True)"
   ]
  },
  {
   "cell_type": "code",
   "execution_count": 15,
   "id": "bcdbd8bd-cc1d-4a1a-baa6-ee87cc479441",
   "metadata": {},
   "outputs": [
    {
     "data": {
      "text/plain": [
       "{'language': 'it', 'sentiment': 'neg'}"
      ]
     },
     "execution_count": 15,
     "metadata": {},
     "output_type": "execute_result"
    }
   ],
   "source": [
    "tagging_chain.invoke({\"input\": \"non mi piace questo cibo\"})"
   ]
  },
  {
   "cell_type": "code",
   "execution_count": 16,
   "id": "3b62592d-9ea9-4209-8c6b-d777009bf315",
   "metadata": {},
   "outputs": [],
   "source": [
    "aws_tagging_chain = prompt | model_with_tools | ToolsOutputParser(first_tool_only=True, args_only=True)"
   ]
  },
  {
   "cell_type": "code",
   "execution_count": 17,
   "id": "d1f5db5b-f604-40e5-8f53-058bca982f96",
   "metadata": {},
   "outputs": [
    {
     "data": {
      "text/plain": [
       "{'sentiment': 'neg', 'language': 'it'}"
      ]
     },
     "execution_count": 17,
     "metadata": {},
     "output_type": "execute_result"
    }
   ],
   "source": [
    "aws_tagging_chain.invoke({\"input\": \"non mi piace questo cibo\"})"
   ]
  },
  {
   "cell_type": "markdown",
   "id": "33a3ea2c-96b9-473b-be1e-faf344e8b155",
   "metadata": {},
   "source": [
    "## Extraction\n",
    "\n",
    "Extraction is similar to tagging, but used for extracting multiple pieces of information."
   ]
  },
  {
   "cell_type": "code",
   "execution_count": 36,
   "id": "eb25b15e-b949-48cb-bf87-43b275a2b1c0",
   "metadata": {},
   "outputs": [],
   "source": [
    "from typing import Optional\n",
    "class Person(BaseModel):\n",
    "    \"\"\"Information about a person .\"\"\"\n",
    "    name: str = Field(description=\"person's name\")\n",
    "    age: Optional[int] = Field(description=\"person's age\")"
   ]
  },
  {
   "cell_type": "code",
   "execution_count": 37,
   "id": "17e2b17b-4fa1-45ef-ac19-09e85c788c82",
   "metadata": {},
   "outputs": [],
   "source": [
    "class Information(BaseModel):\n",
    "    \"\"\"Information to extract.\"\"\"\n",
    "    people: List[Person] = Field(description=\"List of info about people in JSON format\")"
   ]
  },
  {
   "cell_type": "code",
   "execution_count": 38,
   "id": "57964cf6-5147-4ea6-9f50-cb7ef2e87b74",
   "metadata": {},
   "outputs": [
    {
     "data": {
      "text/plain": [
       "{'name': 'Information',\n",
       " 'description': 'Information to extract.',\n",
       " 'input_schema': {'properties': {'people': {'description': 'List of info about people in JSON format',\n",
       "    'items': {'description': 'Information about a person .',\n",
       "     'properties': {'name': {'description': \"person's name\", 'type': 'string'},\n",
       "      'age': {'anyOf': [{'type': 'integer'}, {'type': 'null'}],\n",
       "       'description': \"person's age\"}},\n",
       "     'required': ['name', 'age'],\n",
       "     'type': 'object'},\n",
       "    'type': 'array'}},\n",
       "  'required': ['people'],\n",
       "  'type': 'object'}}"
      ]
     },
     "execution_count": 38,
     "metadata": {},
     "output_type": "execute_result"
    }
   ],
   "source": [
    "convert_to_anthropic_tool(Information)"
   ]
  },
  {
   "cell_type": "code",
   "execution_count": 39,
   "id": "58e1cd8e-8f02-474b-b2ea-c0c8fad892a7",
   "metadata": {},
   "outputs": [],
   "source": [
    "extraction_tools = [convert_to_anthropic_tool(Information)]\n",
    "extraction_model = model.bind(\n",
    "    tools=extraction_tools,\n",
    "    tool_choice={\"type\": \"tool\", \"name\": \"Information\"}\n",
    ")"
   ]
  },
  {
   "cell_type": "code",
   "execution_count": 40,
   "id": "08401a6a-34bb-40af-9b67-2e1a848012cd",
   "metadata": {},
   "outputs": [
    {
     "data": {
      "text/plain": [
       "AIMessage(content='', additional_kwargs={'usage': {'prompt_tokens': 433, 'completion_tokens': 58, 'total_tokens': 491}, 'stop_reason': 'tool_use', 'model_id': 'anthropic.claude-3-5-sonnet-20240620-v1:0'}, response_metadata={'usage': {'prompt_tokens': 433, 'completion_tokens': 58, 'total_tokens': 491}, 'stop_reason': 'tool_use', 'model_id': 'anthropic.claude-3-5-sonnet-20240620-v1:0'}, id='run-16858d21-db7f-47b6-900e-e746c7e19d9e-0', tool_calls=[{'name': 'Information', 'args': {'people': [{'name': 'Joe', 'age': 30}]}, 'id': 'toolu_bdrk_013sXB8cEBvD1RgDBgK3JhHB', 'type': 'tool_call'}], usage_metadata={'input_tokens': 433, 'output_tokens': 58, 'total_tokens': 491})"
      ]
     },
     "execution_count": 40,
     "metadata": {},
     "output_type": "execute_result"
    }
   ],
   "source": [
    "extraction_model.invoke(\"Joe is 30\")"
   ]
  },
  {
   "cell_type": "code",
   "execution_count": 41,
   "id": "c4d81601-3c39-47a6-9c9d-cdc6afc75e13",
   "metadata": {},
   "outputs": [
    {
     "data": {
      "text/plain": [
       "AIMessage(content='', additional_kwargs={'usage': {'prompt_tokens': 438, 'completion_tokens': 81, 'total_tokens': 519}, 'stop_reason': 'tool_use', 'model_id': 'anthropic.claude-3-5-sonnet-20240620-v1:0'}, response_metadata={'usage': {'prompt_tokens': 438, 'completion_tokens': 81, 'total_tokens': 519}, 'stop_reason': 'tool_use', 'model_id': 'anthropic.claude-3-5-sonnet-20240620-v1:0'}, id='run-9b340817-52ef-49e5-bf97-438df0385a1f-0', tool_calls=[{'name': 'Information', 'args': {'people': '[\\n  {\\n    \"name\": \"Joe\",\\n    \"age\": 30\\n  },\\n  {\\n    \"name\": \"Martha\",\\n    \"age\": <UNKNOWN>\\n  }\\n]'}, 'id': 'toolu_bdrk_01G4BvEwCWg2RWnB8iZfeD3b', 'type': 'tool_call'}], usage_metadata={'input_tokens': 438, 'output_tokens': 81, 'total_tokens': 519})"
      ]
     },
     "execution_count": 41,
     "metadata": {},
     "output_type": "execute_result"
    }
   ],
   "source": [
    "extraction_model.invoke(\"Joe is 30, his mom is Martha\")"
   ]
  },
  {
   "cell_type": "code",
   "execution_count": 43,
   "id": "900e909b-5dad-4676-ba61-2fdf39e37cb0",
   "metadata": {},
   "outputs": [],
   "source": [
    "prompt = ChatPromptTemplate.from_messages([\n",
    "    (\"system\", \"Extract the relevant information, if not explicitly provided do not guess. Extract partial info.\"),\n",
    "    (\"human\", \"{input}\")\n",
    "])"
   ]
  },
  {
   "cell_type": "code",
   "execution_count": 44,
   "id": "c3f80e35-6316-4cd3-a83c-db0750f42f2e",
   "metadata": {},
   "outputs": [],
   "source": [
    "extraction_chain = prompt | extraction_model"
   ]
  },
  {
   "cell_type": "code",
   "execution_count": 45,
   "id": "06aa0d59-3a8d-48aa-931a-7b690a4c1aa3",
   "metadata": {},
   "outputs": [
    {
     "data": {
      "text/plain": [
       "AIMessage(content='', additional_kwargs={'usage': {'prompt_tokens': 456, 'completion_tokens': 78, 'total_tokens': 534}, 'stop_reason': 'tool_use', 'model_id': 'anthropic.claude-3-5-sonnet-20240620-v1:0'}, response_metadata={'usage': {'prompt_tokens': 456, 'completion_tokens': 78, 'total_tokens': 534}, 'stop_reason': 'tool_use', 'model_id': 'anthropic.claude-3-5-sonnet-20240620-v1:0'}, id='run-ff94d0c0-d40b-439a-af0f-876c8207353e-0', tool_calls=[{'name': 'Information', 'args': {'people': [{'name': 'Joe', 'age': 30}, {'name': 'Martha', 'age': None}]}, 'id': 'toolu_bdrk_01BHDTMkTTrCNrbCtr8bhL9G', 'type': 'tool_call'}], usage_metadata={'input_tokens': 456, 'output_tokens': 78, 'total_tokens': 534})"
      ]
     },
     "execution_count": 45,
     "metadata": {},
     "output_type": "execute_result"
    }
   ],
   "source": [
    "extraction_chain.invoke({\"input\": \"Joe is 30, his mom is Martha\"})"
   ]
  },
  {
   "cell_type": "code",
   "execution_count": 76,
   "id": "18f5e6ac-86e7-4cb5-a0ca-98b251ce7587",
   "metadata": {},
   "outputs": [],
   "source": [
    "extraction_chain = prompt | extraction_model | JsonOutputKeyToolsParser(\n",
    "    key_name=\"Information\")"
   ]
  },
  {
   "cell_type": "code",
   "execution_count": 77,
   "id": "8933876d-874c-4a16-a09c-4b9e2b94b432",
   "metadata": {},
   "outputs": [
    {
     "data": {
      "text/plain": [
       "[{'people': [{'name': 'Joe', 'age': 30}, {'name': 'Martha', 'age': None}]}]"
      ]
     },
     "execution_count": 77,
     "metadata": {},
     "output_type": "execute_result"
    }
   ],
   "source": [
    "extraction_chain.invoke({\"input\": \"Joe is 30, his mom is Martha\"})"
   ]
  },
  {
   "cell_type": "code",
   "execution_count": 67,
   "id": "2f3bf511-d923-4034-a51b-9d40627639e2",
   "metadata": {},
   "outputs": [],
   "source": [
    "aws_extraction_chain = prompt | extraction_model | ToolsOutputParser(first_tool_only=True, args_only=True)"
   ]
  },
  {
   "cell_type": "code",
   "execution_count": 68,
   "id": "6e084b96-d8c2-4684-90e4-d52b9e41c182",
   "metadata": {},
   "outputs": [
    {
     "data": {
      "text/plain": [
       "{'people': [{'name': 'Joe', 'age': 30}, {'name': 'Martha', 'age': None}]}"
      ]
     },
     "execution_count": 68,
     "metadata": {},
     "output_type": "execute_result"
    }
   ],
   "source": [
    "aws_extraction_chain.invoke({\"input\": \"Joe is 30, his mom is Martha\"})"
   ]
  },
  {
   "cell_type": "code",
   "execution_count": 69,
   "id": "ae69efa0-bed9-48c2-98df-615121144026",
   "metadata": {},
   "outputs": [],
   "source": [
    "def people(input):\n",
    "    return input[\"people\"]"
   ]
  },
  {
   "cell_type": "code",
   "execution_count": 70,
   "id": "1505461b-df0d-4e91-8dd5-d9b93acdfc43",
   "metadata": {},
   "outputs": [],
   "source": [
    "full_extraction_chain = prompt | extraction_model | ToolsOutputParser(first_tool_only=True, args_only=True) | people"
   ]
  },
  {
   "cell_type": "code",
   "execution_count": 71,
   "id": "01c0ad3f-6526-4bb8-9ec5-2204007dd05b",
   "metadata": {},
   "outputs": [
    {
     "data": {
      "text/plain": [
       "[{'name': 'Joe', 'age': 30}, {'name': 'Martha', 'age': None}]"
      ]
     },
     "execution_count": 71,
     "metadata": {},
     "output_type": "execute_result"
    }
   ],
   "source": [
    "full_extraction_chain.invoke({\"input\": \"Joe is 30, his mom is Martha\"})"
   ]
  },
  {
   "cell_type": "markdown",
   "id": "1188471e-4208-4a59-8ff6-fb33028f2e50",
   "metadata": {},
   "source": [
    "## Doing it for real\n",
    "\n",
    "We can apply tagging to a larger body of text.\n",
    "\n",
    "For example, let's load this blog post and extract tag information from a sub-set of the text."
   ]
  },
  {
   "cell_type": "code",
   "execution_count": 80,
   "id": "30d20ae2-4112-46a8-925c-96f4abacb40e",
   "metadata": {},
   "outputs": [],
   "source": [
    "from langchain.document_loaders import WebBaseLoader\n",
    "loader = WebBaseLoader(\n",
    "    \"https://lilianweng.github.io/posts/2023-06-23-agent/\", \n",
    "    header_template={'User-Agent': 'Mozilla/5.0 (Windows NT 10.0; Win64; x64) AppleWebKit/537.36 (KHTML, like Gecko) Chrome/129.0.0.0 Safari/537.36'} )\n",
    "documents = loader.load()"
   ]
  },
  {
   "cell_type": "code",
   "execution_count": 88,
   "id": "4cc8a0b2-1c95-47c1-a6cd-a10eca5cdd89",
   "metadata": {},
   "outputs": [],
   "source": [
    "doc = documents[0]"
   ]
  },
  {
   "cell_type": "code",
   "execution_count": 89,
   "id": "a12f05a1-5d83-422e-a6e4-48c7fd2c2def",
   "metadata": {},
   "outputs": [],
   "source": [
    "page_content = doc.page_content[:10000]"
   ]
  },
  {
   "cell_type": "code",
   "execution_count": null,
   "id": "cda3c3bf-4f64-4220-a649-8ca84515ded6",
   "metadata": {},
   "outputs": [],
   "source": [
    "print(page_content[:1000])"
   ]
  },
  {
   "cell_type": "code",
   "execution_count": 91,
   "id": "f0a9458e-4ba2-496e-bf8a-83469f8c03ff",
   "metadata": {},
   "outputs": [],
   "source": [
    "class Overview(BaseModel):\n",
    "    \"\"\"Overview of a section of text.\"\"\"\n",
    "    summary: str = Field(description=\"Provide a concise summary of the content.\")\n",
    "    language: str = Field(description=\"Provide the language that the content is written in.\")\n",
    "    keywords: str = Field(description=\"Provide keywords related to the content.\")"
   ]
  },
  {
   "cell_type": "code",
   "execution_count": 92,
   "id": "48e470f1-c1be-4732-8db3-b66cb7aa1809",
   "metadata": {},
   "outputs": [],
   "source": [
    "overview_tagging_tool = [\n",
    "    convert_to_anthropic_tool(Overview)\n",
    "]\n",
    "tagging_model = model.bind(\n",
    "    tools=overview_tagging_tool,\n",
    "    tool_choice={\"type\": \"tool\", \"name\": \"Overview\"}\n",
    ")\n",
    "tagging_chain = prompt | tagging_model | ToolsOutputParser(first_tool_only=True, args_only=True)"
   ]
  },
  {
   "cell_type": "code",
   "execution_count": 93,
   "id": "968684b4-6927-4b35-b128-e2ac7a20cdc8",
   "metadata": {},
   "outputs": [
    {
     "data": {
      "text/plain": [
       "{'summary': 'This article discusses LLM-powered autonomous agents, focusing on three key components: planning, memory, and tool use. It covers techniques for task decomposition, self-reflection, and memory management in these agent systems. The article explores various approaches like Chain of Thought, Tree of Thoughts, ReAct, Reflexion, Chain of Hindsight, and Algorithm Distillation for improving agent performance and learning capabilities.',\n",
       " 'language': 'English',\n",
       " 'keywords': 'LLM, autonomous agents, planning, memory, tool use, task decomposition, self-reflection, Chain of Thought, Tree of Thoughts, ReAct, Reflexion, Chain of Hindsight, Algorithm Distillation'}"
      ]
     },
     "execution_count": 93,
     "metadata": {},
     "output_type": "execute_result"
    }
   ],
   "source": [
    "tagging_chain.invoke({\"input\": page_content})"
   ]
  },
  {
   "cell_type": "code",
   "execution_count": 94,
   "id": "38bee4e1-342d-43da-afa4-12ea1bc30597",
   "metadata": {},
   "outputs": [],
   "source": [
    "class Paper(BaseModel):\n",
    "    \"\"\"Information about papers mentioned.\"\"\"\n",
    "    title: str\n",
    "    author: Optional[str]\n",
    "\n",
    "\n",
    "class Info(BaseModel):\n",
    "    \"\"\"Information to extract\"\"\"\n",
    "    papers: List[Paper]"
   ]
  },
  {
   "cell_type": "code",
   "execution_count": 95,
   "id": "be57cc97-3cf1-4aae-a53f-ee095ac50653",
   "metadata": {},
   "outputs": [],
   "source": [
    "paper_extraction_tool = [\n",
    "    convert_to_anthropic_tool(Info)\n",
    "]\n",
    "extraction_model = model.bind(\n",
    "    tools=paper_extraction_tool,\n",
    "    tool_choice={\"type\": \"tool\", \"name\": \"Info\"}\n",
    ")\n",
    "extraction_chain = prompt | extraction_model | ToolsOutputParser(first_tool_only=True, args_only=True)"
   ]
  },
  {
   "cell_type": "code",
   "execution_count": 98,
   "id": "efc59fe5-e3a5-49f1-a365-bcdf4f0e4d10",
   "metadata": {},
   "outputs": [
    {
     "data": {
      "text/plain": [
       "[{'title': 'Chain of Thought Prompting Elicits Reasoning in Large Language Models',\n",
       "  'author': 'Jason Wei et al.'},\n",
       " {'title': 'Tree of Thoughts: Deliberate Problem Solving with Large Language Models',\n",
       "  'author': 'Shunyu Yao et al.'},\n",
       " {'title': 'LLM+P: Empowering Large Language Models with Optimal Planning Proficiency',\n",
       "  'author': 'Bo Liu et al.'},\n",
       " {'title': 'ReAct: Synergizing Reasoning and Acting in Language Models',\n",
       "  'author': 'Shunyu Yao et al.'},\n",
       " {'title': 'Reflexion: Language Agents with Verbal Reinforcement Learning',\n",
       "  'author': 'Noah Shinn and Beck Labash'},\n",
       " {'title': 'Chain-of-Hindsight: Learning from Human Feedback with Large Language Models',\n",
       "  'author': 'Xueyan Zou et al.'},\n",
       " {'title': 'Algorithm Distillation: A Method for Learning Reinforcement Learning Algorithms from Behavioral Data',\n",
       "  'author': 'Michael Laskin et al.'},\n",
       " {'title': 'RL^2: Fast Reinforcement Learning via Slow Reinforcement Learning',\n",
       "  'author': 'Yan Duan et al.'}]"
      ]
     },
     "execution_count": 98,
     "metadata": {},
     "output_type": "execute_result"
    }
   ],
   "source": [
    "extraction_chain.invoke({\"input\": page_content})[\"papers\"]"
   ]
  },
  {
   "cell_type": "code",
   "execution_count": 99,
   "id": "edc93579-0440-4d33-96c0-87a89c8fbe64",
   "metadata": {},
   "outputs": [],
   "source": [
    "template = \"\"\"A article will be passed to you. Extract from it all papers that are mentioned by this article. \n",
    "\n",
    "Do not extract the name of the article itself. If no papers are mentioned that's fine - you don't need to extract any! Just return an empty list.\n",
    "\n",
    "Do not make up or guess ANY extra information. Only extract what exactly is in the text.\"\"\"\n",
    "\n",
    "prompt = ChatPromptTemplate.from_messages([\n",
    "    (\"system\", template),\n",
    "    (\"human\", \"{input}\")\n",
    "])"
   ]
  },
  {
   "cell_type": "code",
   "execution_count": 100,
   "id": "064aea84-65b3-4e21-9566-185d6552480a",
   "metadata": {},
   "outputs": [],
   "source": [
    "extraction_chain = prompt | extraction_model |  ToolsOutputParser(first_tool_only=True, args_only=True)"
   ]
  },
  {
   "cell_type": "code",
   "execution_count": 102,
   "id": "8a371a37-1342-4937-b4d0-cd32b8de9bcd",
   "metadata": {},
   "outputs": [
    {
     "data": {
      "text/plain": [
       "[{'title': 'Chain of thought prompting elicits reasoning in large language models',\n",
       "  'author': 'Wei et al.'},\n",
       " {'title': 'Tree of Thoughts: Deliberate Problem Solving with Large Language Models',\n",
       "  'author': 'Yao et al.'},\n",
       " {'title': 'LLM+P: Empowering Large Language Models with Optimal Planning Proficiency',\n",
       "  'author': 'Liu et al.'},\n",
       " {'title': 'ReAct: Synergizing Reasoning and Acting in Language Models',\n",
       "  'author': 'Yao et al.'},\n",
       " {'title': 'Reflexion: an autonomous agent with dynamic memory and self-reflection',\n",
       "  'author': 'Shinn & Labash'},\n",
       " {'title': 'Chain-of-Hindsight: Learning from Feedback Sequences to Improve Outputs',\n",
       "  'author': 'Liu et al.'},\n",
       " {'title': 'Algorithm Distillation: A Method for Learning Reinforcement Learning Algorithms from Behavioral Data',\n",
       "  'author': 'Laskin et al.'},\n",
       " {'title': 'RL^2: Fast Reinforcement Learning via Slow Reinforcement Learning',\n",
       "  'author': 'Duan et al.'}]"
      ]
     },
     "execution_count": 102,
     "metadata": {},
     "output_type": "execute_result"
    }
   ],
   "source": [
    "extraction_chain.invoke({\"input\": page_content})[\"papers\"]"
   ]
  },
  {
   "cell_type": "code",
   "execution_count": 103,
   "id": "3e864b99-c245-4806-9167-7ac0d0432e3c",
   "metadata": {},
   "outputs": [
    {
     "data": {
      "text/plain": [
       "{'papers': []}"
      ]
     },
     "execution_count": 103,
     "metadata": {},
     "output_type": "execute_result"
    }
   ],
   "source": [
    "extraction_chain.invoke({\"input\": \"hi\"})"
   ]
  },
  {
   "cell_type": "code",
   "execution_count": 104,
   "id": "402bb19f-4f65-47fc-acd7-49774c1115a2",
   "metadata": {},
   "outputs": [],
   "source": [
    "from langchain.text_splitter import RecursiveCharacterTextSplitter\n",
    "text_splitter = RecursiveCharacterTextSplitter(chunk_overlap=0)"
   ]
  },
  {
   "cell_type": "code",
   "execution_count": 105,
   "id": "4cedc288-e9ad-454f-b1e8-ca21510ab967",
   "metadata": {},
   "outputs": [],
   "source": [
    "splits = text_splitter.split_text(doc.page_content)"
   ]
  },
  {
   "cell_type": "code",
   "execution_count": 106,
   "id": "3c84b30f-f479-4652-af52-07bd4bc8696b",
   "metadata": {},
   "outputs": [
    {
     "data": {
      "text/plain": [
       "15"
      ]
     },
     "execution_count": 106,
     "metadata": {},
     "output_type": "execute_result"
    }
   ],
   "source": [
    "len(splits)"
   ]
  },
  {
   "cell_type": "code",
   "execution_count": 107,
   "id": "6d56c7b5-c5db-4e35-b3ab-f6e607bc9d8b",
   "metadata": {},
   "outputs": [],
   "source": [
    "def flatten(matrix):\n",
    "    flat_list = []\n",
    "    for row in matrix:\n",
    "        flat_list += row\n",
    "    return flat_list"
   ]
  },
  {
   "cell_type": "code",
   "execution_count": 108,
   "id": "4ba7bf3b-fa2b-4461-a7d5-2a80fc91384e",
   "metadata": {},
   "outputs": [
    {
     "data": {
      "text/plain": [
       "[1, 2, 3, 4]"
      ]
     },
     "execution_count": 108,
     "metadata": {},
     "output_type": "execute_result"
    }
   ],
   "source": [
    "flatten([[1, 2], [3, 4]])"
   ]
  },
  {
   "cell_type": "code",
   "execution_count": null,
   "id": "c3bdcdc7-7e4b-4da0-a1de-b223687f3032",
   "metadata": {},
   "outputs": [],
   "source": [
    "print(splits[0])"
   ]
  },
  {
   "cell_type": "code",
   "execution_count": 110,
   "id": "d1bc8f8b-cd6d-40f0-a0ab-9c77face69e2",
   "metadata": {},
   "outputs": [],
   "source": [
    "from langchain.schema.runnable import RunnableLambda"
   ]
  },
  {
   "cell_type": "code",
   "execution_count": 111,
   "id": "16a3c489-e62e-424b-95ab-3eee5ed2a0e1",
   "metadata": {},
   "outputs": [],
   "source": [
    "prep = RunnableLambda(\n",
    "    lambda x: [{\"input\": doc} for doc in text_splitter.split_text(x)]\n",
    ")"
   ]
  },
  {
   "cell_type": "code",
   "execution_count": 112,
   "id": "7b2c1f6a-0468-426a-b599-494cad24ec22",
   "metadata": {},
   "outputs": [
    {
     "data": {
      "text/plain": [
       "[{'input': 'hi'}]"
      ]
     },
     "execution_count": 112,
     "metadata": {},
     "output_type": "execute_result"
    }
   ],
   "source": [
    "prep.invoke(\"hi\")"
   ]
  },
  {
   "cell_type": "code",
   "execution_count": 126,
   "id": "95919c02-c117-4cfb-bd23-912f53a4672e",
   "metadata": {},
   "outputs": [],
   "source": [
    "papers = RunnableLambda(\n",
    "    lambda input: [e['papers'] for e in input]\n",
    ")\n"
   ]
  },
  {
   "cell_type": "code",
   "execution_count": 127,
   "id": "33fbfae9-e26e-4eba-8db7-3bebc560c191",
   "metadata": {},
   "outputs": [],
   "source": [
    "chain = prep | extraction_chain.map() | papers | flatten"
   ]
  },
  {
   "cell_type": "code",
   "execution_count": 128,
   "id": "eda80673-1b1b-4683-a40b-d3b1a18a9ea6",
   "metadata": {},
   "outputs": [
    {
     "data": {
      "text/plain": [
       "[{'title': 'Chain of thought', 'author': 'Wei et al.'},\n",
       " {'title': 'Tree of Thoughts', 'author': 'Yao et al.'},\n",
       " {'title': 'LLM+P', 'author': 'Liu et al.'},\n",
       " {'title': 'ReAct', 'author': 'Yao et al.'},\n",
       " {'title': 'Reflexion', 'author': 'Shinn & Labash'},\n",
       " {'title': 'Reflexion: Language Agents with Verbal Reinforcement Learning',\n",
       "  'author': 'Shinn & Labash'},\n",
       " {'title': 'Chain of Hindsight', 'author': 'Liu et al.'},\n",
       " {'title': 'Algorithm Distillation: A Method for Learning Algorithms from Data',\n",
       "  'author': 'Laskin et al.'},\n",
       " {'title': 'Algorithm Distillation: A Method for Learning Downstream-Optimal Representations for Reinforcement Learning',\n",
       "  'author': 'Laskin et al.'},\n",
       " {'title': 'RL^2: Fast Reinforcement Learning via Slow Reinforcement Learning',\n",
       "  'author': 'Duan et al.'},\n",
       " {'title': 'The Magical Number Seven, Plus or Minus Two: Some Limits on Our Capacity for Processing Information',\n",
       "  'author': 'Miller'},\n",
       " {'title': 'MRKL', 'author': 'Karpas et al.'},\n",
       " {'title': 'TALM', 'author': 'Parisi et al.'},\n",
       " {'title': 'Toolformer', 'author': 'Schick et al.'},\n",
       " {'title': 'HuggingGPT', 'author': 'Shen et al.'},\n",
       " {'title': 'API-Bank', 'author': 'Li et al.'},\n",
       " {'title': 'ChemCrow', 'author': 'Bran et al.'},\n",
       " {'title': 'LLM-based evaluation of GPT-4 and ChemCrow',\n",
       "  'author': '<UNKNOWN>'},\n",
       " {'title': 'LLM-empowered agents for scientific discovery',\n",
       "  'author': 'Boiko et al.'},\n",
       " {'title': 'Generative Agents', 'author': 'Park, et al.'},\n",
       " {'title': 'Generative Agents: Interactive Simulacra of Human Behavior',\n",
       "  'author': 'Park et al.'},\n",
       " {'title': '<UNKNOWN>', 'author': '<UNKNOWN>'},\n",
       " {'title': 'Chain of thought prompting elicits reasoning in large language models',\n",
       "  'author': 'Wei et al.'},\n",
       " {'title': 'Tree of Thoughts: Dliberate Problem Solving with Large Language Models',\n",
       "  'author': 'Yao et al.'},\n",
       " {'title': 'Chain of Hindsight Aligns Language Models with Feedback',\n",
       "  'author': 'Liu et al.'},\n",
       " {'title': 'LLM+P: Empowering Large Language Models with Optimal Planning Proficiency',\n",
       "  'author': 'Liu et al.'},\n",
       " {'title': 'ReAct: Synergizing reasoning and acting in language models',\n",
       "  'author': 'Yao et al.'},\n",
       " {'title': 'Reflexion: an autonomous agent with dynamic memory and self-reflection',\n",
       "  'author': 'Shinn & Labash'},\n",
       " {'title': 'In-context Reinforcement Learning with Algorithm Distillation',\n",
       "  'author': 'Laskin et al.'},\n",
       " {'title': 'MRKL Systems A modular, neuro-symbolic architecture that combines large language models, external knowledge sources and discrete reasoning',\n",
       "  'author': 'Karpas et al.'},\n",
       " {'title': 'Webgpt: Browser-assisted question-answering with human feedback',\n",
       "  'author': 'Nakano et al.'},\n",
       " {'title': 'TALM: Tool Augmented Language Models', 'author': 'Parisi et al.'},\n",
       " {'title': 'Toolformer: Language Models Can Teach Themselves to Use Tools',\n",
       "  'author': 'Schick et al.'},\n",
       " {'title': 'API-Bank: A Benchmark for Tool-Augmented LLMs',\n",
       "  'author': 'Li et al.'},\n",
       " {'title': 'HuggingGPT: Solving AI Tasks with ChatGPT and its Friends in HuggingFace',\n",
       "  'author': 'Shen et al.'},\n",
       " {'title': 'ChemCrow: Augmenting large-language models with chemistry tools',\n",
       "  'author': 'Bran et al.'},\n",
       " {'title': 'Emergent autonomous scientific research capabilities of large language models',\n",
       "  'author': 'Boiko et al.'},\n",
       " {'title': 'Generative Agents: Interactive Simulacra of Human Behavior',\n",
       "  'author': 'Joon Sung Park, et al.'}]"
      ]
     },
     "execution_count": 128,
     "metadata": {},
     "output_type": "execute_result"
    }
   ],
   "source": [
    "chain.invoke(doc.page_content)"
   ]
  },
  {
   "cell_type": "code",
   "execution_count": null,
   "id": "5f76c5db-63f8-40b2-ad8e-63ed1cb62d2d",
   "metadata": {},
   "outputs": [],
   "source": []
  },
  {
   "cell_type": "code",
   "execution_count": null,
   "id": "423b7733-e4c3-4335-856d-89841ffa2d67",
   "metadata": {},
   "outputs": [],
   "source": []
  },
  {
   "cell_type": "code",
   "execution_count": null,
   "id": "3ff70424-4adf-4a9a-83f1-e91d7c7c61d2",
   "metadata": {},
   "outputs": [],
   "source": []
  },
  {
   "cell_type": "code",
   "execution_count": null,
   "id": "447ab9e6-629a-460b-bed9-e9a351adc605",
   "metadata": {},
   "outputs": [],
   "source": []
  },
  {
   "cell_type": "code",
   "execution_count": null,
   "id": "82228d84-6eee-4f3b-9d71-94902385f395",
   "metadata": {},
   "outputs": [],
   "source": []
  },
  {
   "cell_type": "code",
   "execution_count": null,
   "id": "12e0207c-20ac-4634-a1c8-1cd8cadc195d",
   "metadata": {},
   "outputs": [],
   "source": []
  },
  {
   "cell_type": "code",
   "execution_count": null,
   "id": "60b55787-ca5c-4d07-91a6-0391b882a6f8",
   "metadata": {},
   "outputs": [],
   "source": []
  },
  {
   "cell_type": "code",
   "execution_count": null,
   "id": "72c3971e-e5e0-41b1-b2dc-e93f100e1d2f",
   "metadata": {},
   "outputs": [],
   "source": []
  },
  {
   "cell_type": "code",
   "execution_count": null,
   "id": "0d43c5e6-5b15-4d1d-a732-ea69b79e00f1",
   "metadata": {},
   "outputs": [],
   "source": []
  },
  {
   "cell_type": "code",
   "execution_count": null,
   "id": "253f7bba-15d0-42ed-95fa-cec62486ac1c",
   "metadata": {},
   "outputs": [],
   "source": []
  },
  {
   "cell_type": "code",
   "execution_count": null,
   "id": "e356c0f7-9039-4d74-9e5a-415050ccf702",
   "metadata": {},
   "outputs": [],
   "source": []
  }
 ],
 "metadata": {
  "kernelspec": {
   "display_name": "Python 3 (ipykernel)",
   "language": "python",
   "name": "python3"
  },
  "language_info": {
   "codemirror_mode": {
    "name": "ipython",
    "version": 3
   },
   "file_extension": ".py",
   "mimetype": "text/x-python",
   "name": "python",
   "nbconvert_exporter": "python",
   "pygments_lexer": "ipython3",
   "version": "3.11.9"
  }
 },
 "nbformat": 4,
 "nbformat_minor": 5
}
