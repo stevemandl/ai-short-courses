{
 "cells": [
  {
   "cell_type": "markdown",
   "id": "a6aa991a-dbeb-43b8-90b6-a06baba8fd98",
   "metadata": {},
   "source": [
    "# Tools and Routing"
   ]
  },
  {
   "cell_type": "code",
   "execution_count": null,
   "id": "3007711b-1a7c-4ed7-a553-a34753d7bc79",
   "metadata": {
    "editable": true,
    "slideshow": {
     "slide_type": ""
    },
    "tags": []
   },
   "outputs": [],
   "source": [
    "#!pip install wikipedia\n",
    "#!pip install openapi-pydantic\n",
    "#!pip install langchain-community==0.3.1\n",
    "import json\n",
    "import boto3\n",
    "import panel as pn  # GUI\n",
    "\n",
    "bedrock_runtime = boto3.client(\n",
    "    service_name=\"bedrock-runtime\",\n",
    "    region_name=\"us-east-1\",\n",
    ")"
   ]
  },
  {
   "cell_type": "code",
   "execution_count": null,
   "id": "bc7ef4d3-f5d8-474c-968f-c47086c6197d",
   "metadata": {},
   "outputs": [],
   "source": [
    "from langchain_core.tools import tool"
   ]
  },
  {
   "cell_type": "code",
   "execution_count": null,
   "id": "57798236-2964-4061-bb84-b9c98c032c9e",
   "metadata": {},
   "outputs": [],
   "source": [
    "@tool\n",
    "def search(query: str) -> str:\n",
    "    \"\"\"Search for weather online\"\"\"\n",
    "    return \"42f\""
   ]
  },
  {
   "cell_type": "code",
   "execution_count": null,
   "id": "76e70ccc-5dfb-4179-b76d-0352603f7e71",
   "metadata": {},
   "outputs": [],
   "source": [
    "search.name"
   ]
  },
  {
   "cell_type": "code",
   "execution_count": null,
   "id": "1fb6af09-e2b0-410a-84d5-564aae0e71c7",
   "metadata": {},
   "outputs": [],
   "source": [
    "search.description"
   ]
  },
  {
   "cell_type": "code",
   "execution_count": null,
   "id": "2f9314cb-2302-408a-a542-6d293dd4916a",
   "metadata": {},
   "outputs": [],
   "source": [
    "search.args"
   ]
  },
  {
   "cell_type": "code",
   "execution_count": null,
   "id": "249c2274-cd1c-47a9-9444-3b9be6a7fe87",
   "metadata": {},
   "outputs": [],
   "source": [
    "from pydantic import BaseModel, Field\n",
    "class SearchInput(BaseModel):\n",
    "    query: str = Field(description=\"Thing to search for\")\n"
   ]
  },
  {
   "cell_type": "code",
   "execution_count": null,
   "id": "1bce4fcd-ccb8-48aa-a633-021a1bdb9f57",
   "metadata": {},
   "outputs": [],
   "source": [
    "@tool(args_schema=SearchInput)\n",
    "def search(query: str) -> str:\n",
    "    \"\"\"Search for the weather online.\"\"\"\n",
    "    return \"42f\""
   ]
  },
  {
   "cell_type": "code",
   "execution_count": null,
   "id": "34d521fe-2a8e-4859-8f6e-188522e4744f",
   "metadata": {},
   "outputs": [],
   "source": [
    "search.args"
   ]
  },
  {
   "cell_type": "code",
   "execution_count": null,
   "id": "84dee518-f761-4930-9681-2a34b551338d",
   "metadata": {},
   "outputs": [],
   "source": [
    "search.run(\"sf\")"
   ]
  },
  {
   "cell_type": "code",
   "execution_count": null,
   "id": "aa62b168-5c67-41d5-ad76-f8106943f636",
   "metadata": {},
   "outputs": [],
   "source": [
    "import requests\n",
    "from pydantic import BaseModel, Field\n",
    "import datetime\n",
    "\n",
    "# Define the input schema\n",
    "class OpenMeteoInput(BaseModel):\n",
    "    latitude: float = Field(..., description=\"Latitude of the location to fetch weather data for\")\n",
    "    longitude: float = Field(..., description=\"Longitude of the location to fetch weather data for\")\n",
    "\n",
    "@tool(args_schema=OpenMeteoInput)\n",
    "def get_current_temperature(latitude: float, longitude: float) -> dict:\n",
    "    \"\"\"Fetch current temperature for given coordinates.\"\"\"\n",
    "    \n",
    "    BASE_URL = \"https://api.open-meteo.com/v1/forecast\"\n",
    "    \n",
    "    # Parameters for the request\n",
    "    params = {\n",
    "        'latitude': latitude,\n",
    "        'longitude': longitude,\n",
    "        'hourly': 'temperature_2m',\n",
    "        'forecast_days': 1,\n",
    "    }\n",
    "\n",
    "    # Make the request\n",
    "    response = requests.get(BASE_URL, params=params)\n",
    "    \n",
    "    if response.status_code == 200:\n",
    "        results = response.json()\n",
    "    else:\n",
    "        raise Exception(f\"API Request failed with status code: {response.status_code}\")\n",
    "\n",
    "    current_utc_time = datetime.datetime.utcnow()\n",
    "    time_list = [datetime.datetime.fromisoformat(time_str.replace('Z', '+00:00')) for time_str in results['hourly']['time']]\n",
    "    temperature_list = results['hourly']['temperature_2m']\n",
    "    \n",
    "    closest_time_index = min(range(len(time_list)), key=lambda i: abs(time_list[i] - current_utc_time))\n",
    "    current_temperature = temperature_list[closest_time_index]\n",
    "    \n",
    "    return f'The current temperature is {current_temperature}°C'"
   ]
  },
  {
   "cell_type": "code",
   "execution_count": null,
   "id": "5bba499f-9922-4e40-8e37-ce6ed434bc00",
   "metadata": {},
   "outputs": [],
   "source": [
    "get_current_temperature.name"
   ]
  },
  {
   "cell_type": "code",
   "execution_count": null,
   "id": "85dd7670-300f-4020-b757-9796b52b00c4",
   "metadata": {},
   "outputs": [],
   "source": [
    "get_current_temperature.description"
   ]
  },
  {
   "cell_type": "code",
   "execution_count": null,
   "id": "db2d16ae-ab4c-4d8b-93e3-7b9f9144c45e",
   "metadata": {},
   "outputs": [],
   "source": [
    "get_current_temperature.args"
   ]
  },
  {
   "cell_type": "code",
   "execution_count": null,
   "id": "4b924939-8a23-48a1-a4b9-4f847c7c4f2e",
   "metadata": {},
   "outputs": [],
   "source": [
    "get_current_temperature.run({\"latitude\": 37.7749, \"longitude\": -122.4194})"
   ]
  },
  {
   "cell_type": "code",
   "execution_count": null,
   "id": "d486b32d-92e9-4a13-9ad7-c50179eee357",
   "metadata": {},
   "outputs": [],
   "source": [
    "import wikipedia\n",
    "@tool\n",
    "def search_wikipedia(query: str) -> str:\n",
    "    \"\"\"Run Wikipedia search and get page summaries.\"\"\"\n",
    "    page_titles = wikipedia.search(query)\n",
    "    summaries = []\n",
    "    for page_title in page_titles[: 3]:\n",
    "        try:\n",
    "            wiki_page =  wikipedia.page(title=page_title, auto_suggest=False)\n",
    "            summaries.append(f\"Page: {page_title}\\nSummary: {wiki_page.summary}\")\n",
    "        except (\n",
    "            self.wiki_client.exceptions.PageError,\n",
    "            self.wiki_client.exceptions.DisambiguationError,\n",
    "        ):\n",
    "            pass\n",
    "    if not summaries:\n",
    "        return \"No good Wikipedia Search Result was found\"\n",
    "    return \"\\n\\n\".join(summaries)"
   ]
  },
  {
   "cell_type": "code",
   "execution_count": null,
   "id": "c6c24be1-4fa4-4260-8b44-12840454e3c7",
   "metadata": {},
   "outputs": [],
   "source": [
    "search_wikipedia.name"
   ]
  },
  {
   "cell_type": "code",
   "execution_count": null,
   "id": "67c814de-5bbd-461a-a5d9-15a8995e0950",
   "metadata": {},
   "outputs": [],
   "source": [
    "search_wikipedia.description"
   ]
  },
  {
   "cell_type": "code",
   "execution_count": null,
   "id": "460ef813-442b-4ebf-a517-4899de122ed4",
   "metadata": {},
   "outputs": [],
   "source": [
    "search_wikipedia.run({\"query\": \"langchain\"})"
   ]
  },
  {
   "cell_type": "markdown",
   "id": "177c19a0-eee2-4222-8841-cb989ea773d2",
   "metadata": {},
   "source": [
    "## Using langgraph syntax since APIChain is deprecated.\n",
    "\n",
    "See https://api.python.langchain.com/en/latest/_modules/langchain/chains/api/base.html#APIChain.from_llm_and_api_docs"
   ]
  },
  {
   "cell_type": "code",
   "execution_count": null,
   "id": "61927bd7-57f2-4f55-920f-9285028af50c",
   "metadata": {},
   "outputs": [],
   "source": [
    "from langchain_aws import ChatBedrock\n",
    "from langchain.chains.api.prompt import API_URL_PROMPT\n",
    "from langchain_community.agent_toolkits.openapi.toolkit import RequestsToolkit\n",
    "from langchain_community.utilities.requests import TextRequestsWrapper"
   ]
  },
  {
   "cell_type": "code",
   "execution_count": null,
   "id": "57f168d1-4850-4954-b4b7-71bff2fc208e",
   "metadata": {},
   "outputs": [],
   "source": [
    "model = ChatBedrock(\n",
    "    model_id=\"anthropic.claude-3-5-sonnet-20240620-v1:0\",\n",
    "    model_kwargs=dict(temperature=0)\n",
    ")\n",
    "\n",
    "url3 = \"https://petstore3.swagger.io/api/v3/openapi.json\"\n",
    "text = requests.get(url3).text"
   ]
  },
  {
   "cell_type": "code",
   "execution_count": null,
   "id": "30892e91-4a2d-4c99-a5f6-199e1431e761",
   "metadata": {},
   "outputs": [],
   "source": [
    "toolkit = RequestsToolkit(\n",
    "    requests_wrapper=TextRequestsWrapper(headers={}),  # no auth required\n",
    "    allow_dangerous_requests=True,\n",
    ")\n",
    "tools = toolkit.get_tools()"
   ]
  },
  {
   "cell_type": "code",
   "execution_count": null,
   "id": "3b39fa50-bc66-4964-b240-8b38de44ca0f",
   "metadata": {},
   "outputs": [],
   "source": [
    "api_request_chain = (\n",
    "    API_URL_PROMPT.partial(api_docs=text)\n",
    "    | model.bind_tools(tools, tool_choice=\"any\")\n",
    ")"
   ]
  },
  {
   "cell_type": "code",
   "execution_count": null,
   "id": "5c7b8a33-b991-4d53-b615-9dc8c6e30711",
   "metadata": {},
   "outputs": [],
   "source": [
    "api_request_chain.invoke({\"question\":\"What are three pets names?\"})"
   ]
  },
  {
   "cell_type": "code",
   "execution_count": null,
   "id": "fd54ffe3-4336-4cc6-a041-a6b961da36b7",
   "metadata": {},
   "outputs": [],
   "source": [
    "api_request_chain.invoke({\"question\":\"Tell me about pet with id 42\"})"
   ]
  },
  {
   "cell_type": "markdown",
   "id": "1159a223-a571-4e86-8b15-3a4ad91fa9a2",
   "metadata": {},
   "source": [
    "### Routing\n",
    "\n",
    "In lesson 3, we show an example of function calling deciding between two candidate functions.\n",
    "\n",
    "Given our tools above, let's format these as OpenAI functions and show this same behavior."
   ]
  },
  {
   "cell_type": "code",
   "execution_count": null,
   "id": "318f7b59-da71-43de-ab34-12fa774a4d6e",
   "metadata": {},
   "outputs": [],
   "source": [
    "model_with_tools = model.bind_tools(tools=[search_wikipedia, get_current_temperature])"
   ]
  },
  {
   "cell_type": "code",
   "execution_count": null,
   "id": "5cd00613-4743-4412-8a8f-fd567fbefbe7",
   "metadata": {},
   "outputs": [],
   "source": [
    "model_with_tools.invoke(\"what is the weather in sf right now\")"
   ]
  },
  {
   "cell_type": "code",
   "execution_count": null,
   "id": "0956f238-4706-46cb-b883-2002989681f4",
   "metadata": {},
   "outputs": [],
   "source": [
    "model_with_tools.invoke(\"what is langchain\")"
   ]
  },
  {
   "cell_type": "code",
   "execution_count": null,
   "id": "cbbf2715-d95d-44f5-972d-baa1ef6e7ae6",
   "metadata": {},
   "outputs": [],
   "source": [
    "from langchain.prompts import ChatPromptTemplate\n",
    "prompt = ChatPromptTemplate.from_messages([\n",
    "    (\"system\", \"You are helpful but sassy assistant. Use tools when possible. Make best guesses about city locations.\"),\n",
    "    (\"user\", \"{input}\"),\n",
    "])\n",
    "chain = prompt | model_with_tools"
   ]
  },
  {
   "cell_type": "code",
   "execution_count": null,
   "id": "221c308b-db7b-4e8c-97b4-13c751eeae4c",
   "metadata": {},
   "outputs": [],
   "source": [
    "chain.invoke({\"input\": \"what is the weather in sf right now\"})"
   ]
  },
  {
   "cell_type": "code",
   "execution_count": null,
   "id": "1506e195-fd89-4eb0-adcd-f3054171d420",
   "metadata": {},
   "outputs": [],
   "source": [
    "from langchain.agents.output_parsers import ToolsAgentOutputParser"
   ]
  },
  {
   "cell_type": "code",
   "execution_count": null,
   "id": "36cf1694-2938-4cf0-9427-b3561be8a959",
   "metadata": {},
   "outputs": [],
   "source": [
    "chain = prompt | model_with_tools | ToolsAgentOutputParser()"
   ]
  },
  {
   "cell_type": "code",
   "execution_count": null,
   "id": "c5049d14-19c4-4c0f-b536-5ac0de01e528",
   "metadata": {},
   "outputs": [],
   "source": [
    "result = chain.invoke({\"input\": \"What is the weather in san francisco right now\"})"
   ]
  },
  {
   "cell_type": "code",
   "execution_count": null,
   "id": "c17c4300-367a-46d3-ab82-e095a2ac0df6",
   "metadata": {},
   "outputs": [],
   "source": [
    "result"
   ]
  },
  {
   "cell_type": "code",
   "execution_count": null,
   "id": "baabce89-cf8b-4d61-8692-427cde5ba84d",
   "metadata": {},
   "outputs": [],
   "source": [
    "resultTool = result[0]\n",
    "resultTool.tool"
   ]
  },
  {
   "cell_type": "code",
   "execution_count": null,
   "id": "3da44c52-8273-43f2-85e8-235f99842b9e",
   "metadata": {},
   "outputs": [],
   "source": [
    "resultTool.tool_input"
   ]
  },
  {
   "cell_type": "code",
   "execution_count": null,
   "id": "6bd5bdcc-369a-4b1f-bada-a97bea92a397",
   "metadata": {},
   "outputs": [],
   "source": [
    "get_current_temperature(resultTool.tool_input)"
   ]
  },
  {
   "cell_type": "code",
   "execution_count": null,
   "id": "fb902377-05d9-413f-88bc-58dfda6e2d34",
   "metadata": {},
   "outputs": [],
   "source": [
    "result = chain.invoke({\"input\": \"hi!\"})"
   ]
  },
  {
   "cell_type": "code",
   "execution_count": null,
   "id": "b382532f-3924-4dda-ac30-ff26ce20d5be",
   "metadata": {},
   "outputs": [],
   "source": [
    "type(result)"
   ]
  },
  {
   "cell_type": "code",
   "execution_count": null,
   "id": "4c2a1452-0532-4769-9bc6-a8c6c57ebdeb",
   "metadata": {},
   "outputs": [],
   "source": [
    "result"
   ]
  },
  {
   "cell_type": "code",
   "execution_count": null,
   "id": "6e87f01e-fe84-49c6-be14-87a51c2616ea",
   "metadata": {},
   "outputs": [],
   "source": [
    "from langchain.schema.agent import AgentFinish\n",
    "def route(result):\n",
    "    if isinstance(result, AgentFinish):\n",
    "        return result.return_values['output']\n",
    "    else:\n",
    "        tools = {\n",
    "            \"search_wikipedia\": search_wikipedia,\n",
    "            \"get_current_temperature\": get_current_temperature,\n",
    "        }\n",
    "        return tools[result[0].tool].run(result[0].tool_input)"
   ]
  },
  {
   "cell_type": "code",
   "execution_count": null,
   "id": "a7fbc21d-15e6-4414-b0f1-c677a9b01945",
   "metadata": {},
   "outputs": [],
   "source": [
    "chain = prompt | model_with_tools | ToolsAgentOutputParser() | route"
   ]
  },
  {
   "cell_type": "code",
   "execution_count": null,
   "id": "d54c4ca3-46a4-4072-9f66-3ce9d62e3553",
   "metadata": {},
   "outputs": [],
   "source": [
    "result = chain.invoke({\"input\": \"What is the weather in san francisco right now\"})"
   ]
  },
  {
   "cell_type": "code",
   "execution_count": null,
   "id": "6130e14e-005f-4ba0-b2c0-d99a51628a11",
   "metadata": {},
   "outputs": [],
   "source": [
    "result"
   ]
  },
  {
   "cell_type": "code",
   "execution_count": null,
   "id": "7f13b4ec-86c9-4240-8b2a-892bc843ca29",
   "metadata": {},
   "outputs": [],
   "source": [
    "result = chain.invoke({\"input\": \"What is langchain?\"})"
   ]
  },
  {
   "cell_type": "code",
   "execution_count": null,
   "id": "510c1494-9fe0-4fe0-a8b1-25a8c5d5553b",
   "metadata": {},
   "outputs": [],
   "source": [
    "result"
   ]
  },
  {
   "cell_type": "code",
   "execution_count": null,
   "id": "2f3478d1-5563-43e9-b444-aa7ba8613174",
   "metadata": {},
   "outputs": [],
   "source": [
    "chain.invoke({\"input\": \"hi!\"})"
   ]
  }
 ],
 "metadata": {
  "kernelspec": {
   "display_name": "Python 3 (ipykernel)",
   "language": "python",
   "name": "python3"
  },
  "language_info": {
   "codemirror_mode": {
    "name": "ipython",
    "version": 3
   },
   "file_extension": ".py",
   "mimetype": "text/x-python",
   "name": "python",
   "nbconvert_exporter": "python",
   "pygments_lexer": "ipython3",
   "version": "3.11.9"
  }
 },
 "nbformat": 4,
 "nbformat_minor": 5
}
