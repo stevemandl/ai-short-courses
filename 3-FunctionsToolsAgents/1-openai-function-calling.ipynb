{
 "cells": [
  {
   "cell_type": "markdown",
   "id": "93a5b441-c11c-41c3-a268-86a79497eb6f",
   "metadata": {},
   "source": [
    "# OpenAI Function Calling"
   ]
  },
  {
   "cell_type": "markdown",
   "id": "b88e54e8-3e57-4b07-96a9-2056f0ee9333",
   "metadata": {},
   "source": [
    "**Notes**:\n",
    "- LLM's don't always produce the same results. The results you see in this notebook may differ from the results you see in the video.\n",
    "- Notebooks results are temporary. Download the notebooks to your local machine if you wish to save your results."
   ]
  },
  {
   "cell_type": "code",
   "execution_count": null,
   "id": "5b6749dc-cd5f-4b54-a7bb-4f7758f6c0f2",
   "metadata": {
    "editable": true,
    "slideshow": {
     "slide_type": ""
    },
    "tags": []
   },
   "outputs": [],
   "source": [
    "import json\n",
    "import boto3\n",
    "\n",
    "bedrock_runtime = boto3.client(\n",
    "    service_name=\"bedrock-runtime\",\n",
    "    region_name=\"us-east-1\",\n",
    ")"
   ]
  },
  {
   "cell_type": "code",
   "execution_count": null,
   "id": "e33b3dcf-0e71-4477-9706-e81d092b5181",
   "metadata": {},
   "outputs": [],
   "source": [
    "# Example dummy function hard coded to return the same weather\n",
    "# In production, this could be your backend API or an external API\n",
    "def get_current_weather(location, unit=\"fahrenheit\"):\n",
    "    \"\"\"Get the current weather in a given location\"\"\"\n",
    "    weather_info = {\n",
    "        \"location\": location,\n",
    "        \"temperature\": \"72\",\n",
    "        \"unit\": unit,\n",
    "        \"forecast\": [\"sunny\", \"windy\"],\n",
    "    }\n",
    "    return json.dumps(weather_info)"
   ]
  },
  {
   "cell_type": "code",
   "execution_count": null,
   "id": "393bd2ed-358c-4ee3-a282-60d0516766cd",
   "metadata": {},
   "outputs": [],
   "source": [
    "# define a function\n",
    "functions = [\n",
    "    {\n",
    "        \"name\": \"get_current_weather\",\n",
    "        \"description\": \"Get the current weather in a given location. Use fahrenheit by default.\",\n",
    "        \"input_schema\": {\n",
    "            \"type\": \"object\",\n",
    "            \"properties\": {\n",
    "                \"location\": {\n",
    "                    \"type\": \"string\",\n",
    "                    \"description\": \"The city and state, e.g. San Francisco, CA\",\n",
    "                },\n",
    "                \"unit\": {\"type\": \"string\", \"enum\": [\"celsius\", \"fahrenheit\"]},\n",
    "            },\n",
    "            \"required\": [\"location\"],\n",
    "        },\n",
    "    }\n",
    "]"
   ]
  },
  {
   "cell_type": "code",
   "execution_count": null,
   "id": "bec4680f-69a8-46a5-bab6-48cb177ee8b1",
   "metadata": {},
   "outputs": [],
   "source": [
    "messages = [\n",
    "    {\n",
    "        \"role\": \"user\",\n",
    "        \"content\": \"What's the weather like in Boston?\"\n",
    "    }\n",
    "]"
   ]
  },
  {
   "cell_type": "code",
   "execution_count": null,
   "id": "0788dadf-fd3d-4552-9145-8d0b7f74f7ac",
   "metadata": {},
   "outputs": [],
   "source": [
    "modelId = \"anthropic.claude-3-5-sonnet-20240620-v1:0\"\n",
    "body = {\n",
    "    \"messages\": messages,\n",
    "    \"tools\": functions,\n",
    "    \"max_tokens\": 1024,\n",
    "    \"temperature\": 0,\n",
    "    \"anthropic_version\": \"bedrock-2023-05-31\"\n",
    "}\n",
    "response = bedrock_runtime.invoke_model(\n",
    "    body=json.dumps(body),\n",
    "    modelId=modelId\n",
    ")\n",
    "response_body = json.loads(response.get(\"body\").read())\n"
   ]
  },
  {
   "cell_type": "code",
   "execution_count": null,
   "id": "e11bf97e-dd7d-4b7a-82f3-6c0334987a88",
   "metadata": {},
   "outputs": [],
   "source": [
    "print(response)"
   ]
  },
  {
   "cell_type": "code",
   "execution_count": null,
   "id": "812b9793-2de4-48a2-9810-83e7bd0c6c39",
   "metadata": {},
   "outputs": [],
   "source": [
    "print(response_body)"
   ]
  },
  {
   "cell_type": "code",
   "execution_count": null,
   "id": "04b1a79a-9ee5-4aef-bc35-82e77236422a",
   "metadata": {},
   "outputs": [],
   "source": [
    "response_message = response_body[\"content\"][0][\"text\"]"
   ]
  },
  {
   "cell_type": "code",
   "execution_count": null,
   "id": "af5cd9b0-17d9-4aa1-b0c6-22c57ae8e803",
   "metadata": {},
   "outputs": [],
   "source": [
    "response_message"
   ]
  },
  {
   "cell_type": "code",
   "execution_count": null,
   "id": "64411885-6ab5-4d78-98e3-ad9bf96334e5",
   "metadata": {},
   "outputs": [],
   "source": [
    "response_body[\"content\"][1][\"input\"]"
   ]
  },
  {
   "cell_type": "code",
   "execution_count": null,
   "id": "733b2ee2-33a6-47f3-9513-22d53bd5844e",
   "metadata": {},
   "outputs": [],
   "source": [
    "args = response_body[\"content\"][1][\"input\"]"
   ]
  },
  {
   "cell_type": "code",
   "execution_count": null,
   "id": "df34e297-f26a-4b3b-a319-b351f51df525",
   "metadata": {},
   "outputs": [],
   "source": [
    "get_current_weather(**args)"
   ]
  },
  {
   "cell_type": "code",
   "execution_count": null,
   "id": "11f2bf85-058c-4e18-98c8-86535b3341b5",
   "metadata": {},
   "outputs": [],
   "source": [
    "messages = [\n",
    "    {\n",
    "        \"role\": \"user\",\n",
    "        \"content\": \"hi!\",\n",
    "    }\n",
    "]"
   ]
  },
  {
   "cell_type": "code",
   "execution_count": null,
   "id": "1984c832-d542-43ba-8068-5c9803f6850b",
   "metadata": {},
   "outputs": [],
   "source": [
    "body = {\n",
    "    \"messages\": messages,\n",
    "    \"tools\": functions,\n",
    "    \"max_tokens\": 1024,\n",
    "    \"temperature\": 0,\n",
    "    \"anthropic_version\": \"bedrock-2023-05-31\"\n",
    "}\n",
    "response = bedrock_runtime.invoke_model(\n",
    "    body=json.dumps(body),\n",
    "    modelId=modelId\n",
    ")"
   ]
  },
  {
   "cell_type": "code",
   "execution_count": null,
   "id": "a3d1569d-7a2c-47a9-8cf3-0815d461b364",
   "metadata": {},
   "outputs": [],
   "source": [
    "json.loads(response.get(\"body\").read())"
   ]
  },
  {
   "cell_type": "code",
   "execution_count": null,
   "id": "e7804fcc-134e-4068-9d87-c3f4ef8e4ee7",
   "metadata": {},
   "outputs": [],
   "source": [
    "body[\"tool_choice\"] = {\"type\": \"auto\"}"
   ]
  },
  {
   "cell_type": "code",
   "execution_count": null,
   "id": "a9cfb9ad-7ae4-4799-abd5-706953708b3e",
   "metadata": {},
   "outputs": [],
   "source": [
    "response = bedrock_runtime.invoke_model(\n",
    "    body=json.dumps(body),\n",
    "    modelId=modelId\n",
    ")"
   ]
  },
  {
   "cell_type": "code",
   "execution_count": null,
   "id": "8222eac6-7936-46ab-be07-b3a9faea9609",
   "metadata": {},
   "outputs": [],
   "source": [
    "json.loads(response.get(\"body\").read())"
   ]
  },
  {
   "cell_type": "code",
   "execution_count": null,
   "id": "f18c63a2-8346-4832-adfc-c7ddf3ee8938",
   "metadata": {},
   "outputs": [],
   "source": [
    "body[\"tool_choice\"] = {\"type\": \"tool\", \"name\": \"get_current_weather\"}"
   ]
  },
  {
   "cell_type": "code",
   "execution_count": null,
   "id": "88ba67ce-83f4-4a70-9651-4ba1b6076991",
   "metadata": {},
   "outputs": [],
   "source": [
    "response = bedrock_runtime.invoke_model(\n",
    "    body=json.dumps(body),\n",
    "    modelId=modelId\n",
    ")"
   ]
  },
  {
   "cell_type": "code",
   "execution_count": null,
   "id": "65233597-aa55-414f-b316-fb1aa0c18c3f",
   "metadata": {},
   "outputs": [],
   "source": [
    "json.loads(response.get(\"body\").read())"
   ]
  },
  {
   "cell_type": "code",
   "execution_count": null,
   "id": "d67cff0b-661f-4b55-8eb8-d9b86ba493c3",
   "metadata": {},
   "outputs": [],
   "source": [
    "messages = [\n",
    "    {\n",
    "        \"role\": \"user\",\n",
    "        \"content\": \"What's the weather like in Boston!\",\n",
    "    }\n",
    "]\n",
    "body = {\n",
    "    \"messages\": messages,\n",
    "    \"tools\": functions,\n",
    "    \"max_tokens\": 1024,\n",
    "    \"temperature\": 0,\n",
    "    \"anthropic_version\": \"bedrock-2023-05-31\"\n",
    "}\n",
    "response = bedrock_runtime.invoke_model(\n",
    "    body=json.dumps(body),\n",
    "    modelId=modelId\n",
    ")\n",
    "response_body = json.loads(response.get(\"body\").read())\n",
    "print(response_body)"
   ]
  },
  {
   "cell_type": "code",
   "execution_count": null,
   "id": "289959dc-f3e5-48a5-8b86-2fae84fae3f7",
   "metadata": {},
   "outputs": [],
   "source": [
    "body[\"messages\"].append({\n",
    "    \"role\": \"assistant\",\n",
    "    \"content\": response_body.get(\"content\")})"
   ]
  },
  {
   "cell_type": "code",
   "execution_count": null,
   "id": "3b677cfe-077d-4e8b-8f49-db53a83807bc",
   "metadata": {},
   "outputs": [],
   "source": [
    "tool_use_content = response_body[\"content\"][1]\n",
    "args = tool_use_content[\"input\"]\n",
    "observation = get_current_weather(**args)\n",
    "entry = {\n",
    "    \"tool_use_id\": tool_use_content[\"id\"],\n",
    "    \"content\": [{\"type\": \"text\", \"text\": json.dumps(observation)}],\n",
    "    \"type\": \"tool_result\"}\n",
    "body[\"messages\"].append({\n",
    "    \"role\": \"user\",\n",
    "    \"content\": [entry]\n",
    "})\n"
   ]
  },
  {
   "cell_type": "code",
   "execution_count": null,
   "id": "a27be9a9-6511-4534-8777-64b43a9c9501",
   "metadata": {},
   "outputs": [],
   "source": [
    "response = bedrock_runtime.invoke_model(\n",
    "    body=json.dumps(body),\n",
    "    modelId=modelId\n",
    ")\n",
    "response_body = json.loads(response.get(\"body\").read())\n",
    "print(response_body.get(\"content\")[0][\"text\"])"
   ]
  },
  {
   "cell_type": "code",
   "execution_count": null,
   "id": "eda397d9-cede-472a-815b-de83b5f95e64",
   "metadata": {},
   "outputs": [],
   "source": []
  }
 ],
 "metadata": {
  "kernelspec": {
   "display_name": "Python 3 (ipykernel)",
   "language": "python",
   "name": "python3"
  },
  "language_info": {
   "codemirror_mode": {
    "name": "ipython",
    "version": 3
   },
   "file_extension": ".py",
   "mimetype": "text/x-python",
   "name": "python",
   "nbconvert_exporter": "python",
   "pygments_lexer": "ipython3",
   "version": "3.11.9"
  }
 },
 "nbformat": 4,
 "nbformat_minor": 5
}
