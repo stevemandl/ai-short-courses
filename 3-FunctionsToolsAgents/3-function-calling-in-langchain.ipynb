{
 "cells": [
  {
   "cell_type": "markdown",
   "id": "b88e54e8-3e57-4b07-96a9-2056f0ee9333",
   "metadata": {},
   "source": [
    "# Function Calling In LangChain"
   ]
  },
  {
   "cell_type": "code",
   "execution_count": null,
   "id": "5b6749dc-cd5f-4b54-a7bb-4f7758f6c0f2",
   "metadata": {
    "editable": true,
    "slideshow": {
     "slide_type": ""
    },
    "tags": []
   },
   "outputs": [],
   "source": [
    "import json\n",
    "import boto3\n",
    "import panel as pn  # GUI\n",
    "\n",
    "from typing import List\n",
    "from pydantic import BaseModel, Field\n",
    "from langchain_aws import ChatBedrock\n",
    "\n",
    "bedrock_runtime = boto3.client(\n",
    "    service_name=\"bedrock-runtime\",\n",
    "    region_name=\"us-east-1\",\n",
    ")\n"
   ]
  },
  {
   "cell_type": "code",
   "execution_count": null,
   "id": "e33b3dcf-0e71-4477-9706-e81d092b5181",
   "metadata": {},
   "outputs": [],
   "source": [
    "#!pip cache purge\n",
    "#!pip uninstall --yes pydantic langchain langchain-core langchain-text-splitters langchain-community langchain-aws langchain-anthropic jupyter-ai jupyter-ai-magics amazon-sagemaker-jupyter-ai-q-developer\n",
    "#!pip install pydantic==2.9.2\n",
    "#!pip install jupyter-ai==2.24.0\n",
    "#!pip install langchain==0.3.1\n",
    "    #0.2.16\n",
    "#!pip install langchain-anthropic\n",
    "#!pip install langchain-aws\n"
   ]
  },
  {
   "cell_type": "markdown",
   "id": "8ac17266-acb6-4488-84ba-1338f610d0c3",
   "metadata": {},
   "source": [
    "## Pydantic Syntax\n",
    "\n",
    "Pydantic data classes are a blend of Python's data classes with the validation power of Pydantic. \n",
    "\n",
    "They offer a concise way to define data structures while ensuring that the data adheres to specified types and constraints.\n",
    "\n",
    "In standard python you would create a class like this:"
   ]
  },
  {
   "cell_type": "code",
   "execution_count": null,
   "id": "00e86607-4c78-4967-a8cd-cecadae1609f",
   "metadata": {},
   "outputs": [],
   "source": [
    "class User:\n",
    "    def __init__(self, name: str, age: int, email: str):\n",
    "        self.name = name\n",
    "        self.age = age\n",
    "        self.email = email"
   ]
  },
  {
   "cell_type": "code",
   "execution_count": null,
   "id": "709ae9ed-9c27-461f-8ee4-6123b3400624",
   "metadata": {},
   "outputs": [],
   "source": [
    "foo = User(name=\"Joe\",age=32, email=\"joe@gmail.com\")"
   ]
  },
  {
   "cell_type": "code",
   "execution_count": null,
   "id": "1b404212-fb4c-4e6e-a213-b4c043138395",
   "metadata": {},
   "outputs": [],
   "source": [
    "foo.name"
   ]
  },
  {
   "cell_type": "code",
   "execution_count": null,
   "id": "d637bae3-b7c7-40aa-b5fd-80f1584f36b6",
   "metadata": {},
   "outputs": [],
   "source": [
    "foo = User(name=\"Joe\",age=\"bar\", email=\"joe@gmail.com\")"
   ]
  },
  {
   "cell_type": "code",
   "execution_count": null,
   "id": "ad252382-903a-4a2b-a5d7-de7c80d0ba7b",
   "metadata": {},
   "outputs": [],
   "source": [
    "foo.age"
   ]
  },
  {
   "cell_type": "code",
   "execution_count": null,
   "id": "48a51741-61b5-4226-98b4-bb18b25bf5fd",
   "metadata": {},
   "outputs": [],
   "source": [
    "class pUser(BaseModel):\n",
    "    name: str\n",
    "    age: int\n",
    "    email: str"
   ]
  },
  {
   "cell_type": "code",
   "execution_count": null,
   "id": "cb53681d-7ed0-4847-8b13-f391b11ad40a",
   "metadata": {},
   "outputs": [],
   "source": [
    "foo_p = pUser(name=\"Jane\", age=32, email=\"jane@gmail.com\")"
   ]
  },
  {
   "cell_type": "code",
   "execution_count": null,
   "id": "aa6c02b0-4888-40b6-91b7-470fec612917",
   "metadata": {},
   "outputs": [],
   "source": [
    "foo_p.name"
   ]
  },
  {
   "cell_type": "markdown",
   "id": "4e625048-bcfd-4fb0-b23f-265de3e5f460",
   "metadata": {},
   "source": [
    "**Note**: The next cell is expected to fail."
   ]
  },
  {
   "cell_type": "code",
   "execution_count": null,
   "id": "522cf6f4-74bc-4a29-a217-0efc7067c6a6",
   "metadata": {},
   "outputs": [],
   "source": [
    "foo_p = pUser(name=\"Jane\", age=\"bar\", email=\"jane@gmail.com\")"
   ]
  },
  {
   "cell_type": "code",
   "execution_count": null,
   "id": "61b9ba24-7460-4843-825e-4021a7eae41f",
   "metadata": {},
   "outputs": [],
   "source": [
    "class Class(BaseModel):\n",
    "    students: List[pUser]"
   ]
  },
  {
   "cell_type": "code",
   "execution_count": null,
   "id": "18666055-2e6e-45e6-92d7-74b925e2183a",
   "metadata": {},
   "outputs": [],
   "source": [
    "obj = Class(\n",
    "    students=[pUser(name=\"Jane\", age=32, email=\"jane@gmail.com\")]\n",
    ")"
   ]
  },
  {
   "cell_type": "code",
   "execution_count": null,
   "id": "6f8955a8-dda1-4cc7-93f3-8c852bd63f3c",
   "metadata": {},
   "outputs": [],
   "source": [
    "obj"
   ]
  },
  {
   "cell_type": "markdown",
   "id": "e67362f6-f801-479f-903c-1c9535a1a187",
   "metadata": {},
   "source": [
    "## Pydantic to Anthropic tool definition"
   ]
  },
  {
   "cell_type": "code",
   "execution_count": null,
   "id": "aa20ba59-72cd-41dd-aae5-8eb2aad68300",
   "metadata": {},
   "outputs": [],
   "source": [
    "class WeatherSearch(BaseModel):\n",
    "    \"\"\"Call this with an airport code to get the weather at that airport. Make a best guess at the airport code.\"\"\"\n",
    "    airport_code: str = Field(description=\"airport code to get weather for\")"
   ]
  },
  {
   "cell_type": "code",
   "execution_count": null,
   "id": "74538c44-c858-4242-97f8-91ca3adab532",
   "metadata": {},
   "outputs": [],
   "source": [
    "from langchain_anthropic import ChatAnthropic\n",
    "from langchain_aws.function_calling import convert_to_anthropic_tool\n"
   ]
  },
  {
   "cell_type": "code",
   "execution_count": null,
   "id": "58d3d895-17bc-4dfb-904a-5916cad6b59e",
   "metadata": {},
   "outputs": [],
   "source": [
    "weather_function = convert_to_anthropic_tool(WeatherSearch)"
   ]
  },
  {
   "cell_type": "code",
   "execution_count": null,
   "id": "81a8d573-0a6b-4b56-81cb-1cf0cfd4cfeb",
   "metadata": {},
   "outputs": [],
   "source": [
    "weather_function"
   ]
  },
  {
   "cell_type": "code",
   "execution_count": null,
   "id": "679c7058-e28c-4fb0-94cd-ec8684c05df0",
   "metadata": {},
   "outputs": [],
   "source": [
    "class WeatherSearch1(BaseModel):\n",
    "    airport_code: str = Field(description=\"airport code to get weather for\")"
   ]
  },
  {
   "cell_type": "markdown",
   "id": "dd0ae656-05c5-451a-971f-8d125f48d3ed",
   "metadata": {},
   "source": [
    "**Note**: The next cell does not cause an error with the anthropic converter, but leaves an empty description."
   ]
  },
  {
   "cell_type": "code",
   "execution_count": null,
   "id": "fef326bb-a961-44da-b6f7-795c1bcd0fbd",
   "metadata": {},
   "outputs": [],
   "source": [
    "convert_to_anthropic_tool(WeatherSearch1)"
   ]
  },
  {
   "cell_type": "code",
   "execution_count": null,
   "id": "6141f2b9-943a-4357-bb5f-6da90ea9e572",
   "metadata": {},
   "outputs": [],
   "source": [
    "class WeatherSearch2(BaseModel):\n",
    "    \"\"\"Call this with an airport code to get the weather at that airport\"\"\"\n",
    "    airport_code: str"
   ]
  },
  {
   "cell_type": "code",
   "execution_count": null,
   "id": "abab1d41-0d57-4cfc-a5a5-ec9bcffe0a48",
   "metadata": {},
   "outputs": [],
   "source": [
    "convert_to_anthropic_tool(WeatherSearch2)"
   ]
  },
  {
   "cell_type": "code",
   "execution_count": null,
   "id": "d9051e75-75e8-4eb5-8ce7-e71f697f955d",
   "metadata": {},
   "outputs": [],
   "source": [
    "model = ChatBedrock(\n",
    "    model_id=\"anthropic.claude-3-5-sonnet-20240620-v1:0\",\n",
    "    model_kwargs=dict(temperature=0)\n",
    ")"
   ]
  },
  {
   "cell_type": "code",
   "execution_count": null,
   "id": "47173c46-9a48-4ef3-ad51-b4677bb56a76",
   "metadata": {},
   "outputs": [],
   "source": [
    "model.invoke(\"what is the weather in SF today?\", tools=[weather_function])"
   ]
  },
  {
   "cell_type": "code",
   "execution_count": null,
   "id": "13f7adb5-b060-4604-b562-dc06b3068947",
   "metadata": {},
   "outputs": [],
   "source": [
    "model_with_function = model.bind(tools=[weather_function])"
   ]
  },
  {
   "cell_type": "code",
   "execution_count": null,
   "id": "d9d91ca5-2ef7-46da-a64f-fa1d9440d4bd",
   "metadata": {},
   "outputs": [],
   "source": [
    "model_with_function.invoke(\"what is the weather in sf?\")"
   ]
  },
  {
   "cell_type": "markdown",
   "id": "f01536b2-a6bf-445e-a58d-1b87b3aa0f82",
   "metadata": {},
   "source": [
    "## Alternate syntax\n",
    "\n",
    "We can skip converting and just bind a plain pydantic model"
   ]
  },
  {
   "cell_type": "code",
   "execution_count": null,
   "id": "0900bfea-9be7-430b-9b77-2e138f9901cd",
   "metadata": {},
   "outputs": [],
   "source": [
    "alternate_model_with_function = model.bind_tools(tools=[WeatherSearch])"
   ]
  },
  {
   "cell_type": "code",
   "execution_count": null,
   "id": "8214285f-cc09-4a0d-b4fc-3c53bcc0d25e",
   "metadata": {},
   "outputs": [],
   "source": [
    "alternate_model_with_function.invoke(\"what is the weather in sf?\")"
   ]
  },
  {
   "cell_type": "markdown",
   "id": "8b883eb0-93fe-46d1-b101-6f150b83bd19",
   "metadata": {},
   "source": [
    "## Forcing it to use a tool\n",
    "\n",
    "We can force the model to use a function/tool\n"
   ]
  },
  {
   "cell_type": "code",
   "execution_count": null,
   "id": "481580e3-9bed-4648-8c12-7817d8e35c24",
   "metadata": {},
   "outputs": [],
   "source": [
    "model_with_forced_function = model.bind_tools(tools=[WeatherSearch], tool_choice={\"type\": \"tool\", \"name\": \"WeatherSearch\"})"
   ]
  },
  {
   "cell_type": "code",
   "execution_count": null,
   "id": "ee3f1642-0e85-4092-a515-62e430b5aacc",
   "metadata": {},
   "outputs": [],
   "source": [
    "model_with_forced_function.invoke(\"what is the weather in sf?\")"
   ]
  },
  {
   "cell_type": "code",
   "execution_count": null,
   "id": "e86d70c1-39b6-4c04-a069-c4818e8d6fb7",
   "metadata": {},
   "outputs": [],
   "source": [
    "model_with_forced_function.invoke(\"hi!\")"
   ]
  },
  {
   "cell_type": "markdown",
   "id": "0201609a-70fc-40ec-b165-faf6dc9c0980",
   "metadata": {},
   "source": [
    "## Using in a chain\n",
    "\n",
    "We can use this model bound to function in a chain as we normally would"
   ]
  },
  {
   "cell_type": "code",
   "execution_count": null,
   "id": "986797fe-bf71-4d4b-bf36-7a15fe978165",
   "metadata": {},
   "outputs": [],
   "source": [
    "from langchain.prompts import ChatPromptTemplate"
   ]
  },
  {
   "cell_type": "code",
   "execution_count": null,
   "id": "51b69734-b2da-419c-b677-83648ebe28f9",
   "metadata": {},
   "outputs": [],
   "source": [
    "prompt = ChatPromptTemplate.from_messages([\n",
    "    (\"system\", \"You are a helpful assistant\"),\n",
    "    (\"user\", \"{input}\")\n",
    "])"
   ]
  },
  {
   "cell_type": "code",
   "execution_count": null,
   "id": "1c055121-7ea7-4946-9af5-eece63062ffe",
   "metadata": {},
   "outputs": [],
   "source": [
    "chain = prompt | model_with_function"
   ]
  },
  {
   "cell_type": "code",
   "execution_count": null,
   "id": "9b0b1bc3-c28d-4c20-b522-72980802d25b",
   "metadata": {},
   "outputs": [],
   "source": [
    "chain.invoke({\"input\": \"what is the weather in sf?\"})"
   ]
  },
  {
   "cell_type": "markdown",
   "id": "bc1111e9-7226-4252-a3c8-c05c2695595e",
   "metadata": {},
   "source": [
    "## Using multiple functions\n",
    "\n",
    "Even better, we can pass a set of function and let the LLM decide which to use based on the question context."
   ]
  },
  {
   "cell_type": "code",
   "execution_count": null,
   "id": "399d3c7b-e6e6-44b6-971e-93d1104f86de",
   "metadata": {},
   "outputs": [],
   "source": [
    "class ArtistSearch(BaseModel):\n",
    "    \"\"\"Call this to get the names of songs by a particular artist\"\"\"\n",
    "    artist_name: str = Field(description=\"name of artist to look up\")\n",
    "    n: int = Field(description=\"number of results\")"
   ]
  },
  {
   "cell_type": "code",
   "execution_count": null,
   "id": "7ee1ae8d-96df-4747-ae33-95eacdc0c151",
   "metadata": {},
   "outputs": [],
   "source": [
    "tools = [WeatherSearch, ArtistSearch]"
   ]
  },
  {
   "cell_type": "code",
   "execution_count": null,
   "id": "e019e108-02c2-4f6e-bf19-a132a6d40013",
   "metadata": {},
   "outputs": [],
   "source": [
    "model_with_tools = model.bind_tools(tools=tools)"
   ]
  },
  {
   "cell_type": "code",
   "execution_count": null,
   "id": "224ce087-1fb4-476c-928a-101af13dcca2",
   "metadata": {},
   "outputs": [],
   "source": [
    "model_with_tools.invoke(\"what is the weather in sf?\")"
   ]
  },
  {
   "cell_type": "code",
   "execution_count": null,
   "id": "0ec66288-4abb-467d-8d09-628396a102f8",
   "metadata": {},
   "outputs": [],
   "source": [
    "model_with_tools.invoke(\"what are three songs by taylor swift?\")"
   ]
  },
  {
   "cell_type": "code",
   "execution_count": null,
   "id": "d2f1aafd-65ae-409c-95bd-280176d29210",
   "metadata": {},
   "outputs": [],
   "source": [
    "model_with_tools.invoke(\"hi!\")"
   ]
  },
  {
   "cell_type": "code",
   "execution_count": null,
   "id": "1ee7272c-a415-4042-b86c-463de74b2612",
   "metadata": {},
   "outputs": [],
   "source": []
  },
  {
   "cell_type": "code",
   "execution_count": null,
   "id": "8bb6084d-89ca-4d88-ada8-e1834150b9b4",
   "metadata": {},
   "outputs": [],
   "source": []
  },
  {
   "cell_type": "code",
   "execution_count": null,
   "id": "71dad29f-a8d6-40bd-b439-b4788ccd2114",
   "metadata": {},
   "outputs": [],
   "source": []
  },
  {
   "cell_type": "code",
   "execution_count": null,
   "id": "907127c7-f570-41db-8bed-5f7f789f1ea8",
   "metadata": {},
   "outputs": [],
   "source": []
  },
  {
   "cell_type": "code",
   "execution_count": null,
   "id": "40379c5a-454f-4eb0-85a9-3e300f06723a",
   "metadata": {},
   "outputs": [],
   "source": []
  },
  {
   "cell_type": "code",
   "execution_count": null,
   "id": "b6010990-82c1-4f70-97b2-5832f0f04b33",
   "metadata": {},
   "outputs": [],
   "source": []
  },
  {
   "cell_type": "code",
   "execution_count": null,
   "id": "9cce18f6-daff-4455-8e06-81abe2be77e2",
   "metadata": {},
   "outputs": [],
   "source": []
  },
  {
   "cell_type": "code",
   "execution_count": null,
   "id": "53cf827f-5bba-43f8-b533-6c2b99158957",
   "metadata": {},
   "outputs": [],
   "source": []
  }
 ],
 "metadata": {
  "kernelspec": {
   "display_name": "Python 3 (ipykernel)",
   "language": "python",
   "name": "python3"
  },
  "language_info": {
   "codemirror_mode": {
    "name": "ipython",
    "version": 3
   },
   "file_extension": ".py",
   "mimetype": "text/x-python",
   "name": "python",
   "nbconvert_exporter": "python",
   "pygments_lexer": "ipython3",
   "version": "3.11.9"
  }
 },
 "nbformat": 4,
 "nbformat_minor": 5
}
